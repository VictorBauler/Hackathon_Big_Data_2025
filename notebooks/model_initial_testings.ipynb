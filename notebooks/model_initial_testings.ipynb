{
 "cells": [
  {
   "cell_type": "markdown",
   "id": "64f50bd5",
   "metadata": {},
   "source": [
    "# EXP1: Prever semanas de fevereiro usando dados de janeiro "
   ]
  },
  {
   "cell_type": "code",
   "execution_count": 102,
   "id": "7cb8b427",
   "metadata": {},
   "outputs": [],
   "source": [
    "import pandas as pd"
   ]
  },
  {
   "cell_type": "code",
   "execution_count": 148,
   "id": "cad0e0aa",
   "metadata": {},
   "outputs": [],
   "source": [
    "full_df = pd.read_parquet(\"/data/challenges/hackathon_bigdata_2025/processed_data/transacoes_merged.parquet\")\n",
    "target_df = pd.read_parquet(\"/data/challenges/hackathon_bigdata_2025/processed_data/targets.parquet\")"
   ]
  },
  {
   "cell_type": "code",
   "execution_count": 149,
   "id": "d484d026",
   "metadata": {},
   "outputs": [
    {
     "data": {
      "text/html": [
       "<div>\n",
       "<style scoped>\n",
       "    .dataframe tbody tr th:only-of-type {\n",
       "        vertical-align: middle;\n",
       "    }\n",
       "\n",
       "    .dataframe tbody tr th {\n",
       "        vertical-align: top;\n",
       "    }\n",
       "\n",
       "    .dataframe thead th {\n",
       "        text-align: right;\n",
       "    }\n",
       "</style>\n",
       "<table border=\"1\" class=\"dataframe\">\n",
       "  <thead>\n",
       "    <tr style=\"text-align: right;\">\n",
       "      <th></th>\n",
       "      <th>semana</th>\n",
       "      <th>pdv</th>\n",
       "      <th>produto</th>\n",
       "      <th>quantidade</th>\n",
       "      <th>mes</th>\n",
       "      <th>ano</th>\n",
       "    </tr>\n",
       "  </thead>\n",
       "  <tbody>\n",
       "    <tr>\n",
       "      <th>0</th>\n",
       "      <td>1</td>\n",
       "      <td>1001371918471115422</td>\n",
       "      <td>1029370090212151375</td>\n",
       "      <td>2.0</td>\n",
       "      <td>1</td>\n",
       "      <td>2022</td>\n",
       "    </tr>\n",
       "    <tr>\n",
       "      <th>1</th>\n",
       "      <td>1</td>\n",
       "      <td>1001371918471115422</td>\n",
       "      <td>1120490062981954254</td>\n",
       "      <td>18.0</td>\n",
       "      <td>1</td>\n",
       "      <td>2022</td>\n",
       "    </tr>\n",
       "    <tr>\n",
       "      <th>2</th>\n",
       "      <td>1</td>\n",
       "      <td>1001371918471115422</td>\n",
       "      <td>2239307647969388381</td>\n",
       "      <td>2.0</td>\n",
       "      <td>1</td>\n",
       "      <td>2022</td>\n",
       "    </tr>\n",
       "    <tr>\n",
       "      <th>3</th>\n",
       "      <td>1</td>\n",
       "      <td>1001371918471115422</td>\n",
       "      <td>4353552881410365573</td>\n",
       "      <td>7.0</td>\n",
       "      <td>1</td>\n",
       "      <td>2022</td>\n",
       "    </tr>\n",
       "    <tr>\n",
       "      <th>4</th>\n",
       "      <td>1</td>\n",
       "      <td>1001371918471115422</td>\n",
       "      <td>4797439216678436447</td>\n",
       "      <td>1.0</td>\n",
       "      <td>1</td>\n",
       "      <td>2022</td>\n",
       "    </tr>\n",
       "  </tbody>\n",
       "</table>\n",
       "</div>"
      ],
      "text/plain": [
       "   semana                  pdv              produto  quantidade  mes   ano\n",
       "0       1  1001371918471115422  1029370090212151375         2.0    1  2022\n",
       "1       1  1001371918471115422  1120490062981954254        18.0    1  2022\n",
       "2       1  1001371918471115422  2239307647969388381         2.0    1  2022\n",
       "3       1  1001371918471115422  4353552881410365573         7.0    1  2022\n",
       "4       1  1001371918471115422  4797439216678436447         1.0    1  2022"
      ]
     },
     "execution_count": 149,
     "metadata": {},
     "output_type": "execute_result"
    }
   ],
   "source": [
    "target_df.head()"
   ]
  },
  {
   "cell_type": "code",
   "execution_count": 150,
   "id": "f2a5a51a",
   "metadata": {},
   "outputs": [],
   "source": [
    "# Identificar as combinações de PDV+produto que estão em ambos os dataframes\n",
    "full_df['pdv_produto'] = full_df['pdv'].astype(str) + '_' + full_df['produto'].astype(str)\n",
    "target_df['pdv_produto'] = target_df['pdv'].astype(str) + '_' + target_df['produto'].astype(str)"
   ]
  },
  {
   "cell_type": "code",
   "execution_count": 151,
   "id": "4e4f0259",
   "metadata": {},
   "outputs": [
    {
     "data": {
      "text/plain": [
       "(np.int64(22965), np.int64(54232))"
      ]
     },
     "execution_count": 151,
     "metadata": {},
     "output_type": "execute_result"
    }
   ],
   "source": [
    "(target_df.quantidade == 0).sum(), (target_df.quantidade < 0).sum()"
   ]
  },
  {
   "cell_type": "code",
   "execution_count": 152,
   "id": "1b84de6b",
   "metadata": {},
   "outputs": [],
   "source": [
    "target_train = target_df[target_df['mes'] == 4]\n",
    "target_val = target_df[target_df['mes'] == 5]"
   ]
  },
  {
   "cell_type": "code",
   "execution_count": 153,
   "id": "df3bccac",
   "metadata": {},
   "outputs": [],
   "source": [
    "x_df_train = full_df[full_df['mes'] == 3]\n",
    "x_df_val = full_df[full_df['mes'] == 4]"
   ]
  },
  {
   "cell_type": "code",
   "execution_count": 154,
   "id": "8a0a9861",
   "metadata": {},
   "outputs": [
    {
     "data": {
      "text/plain": [
       "((459469, 7), (493306, 21), (459469, 21), (541797, 7))"
      ]
     },
     "execution_count": 154,
     "metadata": {},
     "output_type": "execute_result"
    }
   ],
   "source": [
    "target_train.shape, x_df_train.shape, x_df_val.shape, target_val.shape,"
   ]
  },
  {
   "cell_type": "code",
   "execution_count": 155,
   "id": "810b27ac",
   "metadata": {},
   "outputs": [
    {
     "data": {
      "text/plain": [
       "pdv                  semana  produto              quantidade  mes  ano   pdv_produto                            \n",
       "1000237487041964405  4       4038588102284338370  1.0         4    2022  1000237487041964405_4038588102284338370    1\n",
       "                             596381974901127871   1.0         4    2022  1000237487041964405_596381974901127871     1\n",
       "                             7270233133454638680  1.0         4    2022  1000237487041964405_7270233133454638680    1\n",
       "                             7370044109082767116  1.0         4    2022  1000237487041964405_7370044109082767116    1\n",
       "                             777251454728290683   2.0         4    2022  1000237487041964405_777251454728290683     1\n",
       "                                                                                                                   ..\n",
       "997907800111849739   4       8054344730735101996  2.0         4    2022  997907800111849739_8054344730735101996     1\n",
       "                             8222093130128661995  5.0         4    2022  997907800111849739_8222093130128661995     1\n",
       "                             9144916140040525074  1.0         4    2022  997907800111849739_9144916140040525074     1\n",
       "                             9149212002603716850  1.0         4    2022  997907800111849739_9149212002603716850     1\n",
       "                             9201926030466239921  1.0         4    2022  997907800111849739_9201926030466239921     1\n",
       "Name: count, Length: 459469, dtype: int64"
      ]
     },
     "execution_count": 155,
     "metadata": {},
     "output_type": "execute_result"
    }
   ],
   "source": [
    "target_train.groupby('pdv').value_counts()"
   ]
  },
  {
   "cell_type": "code",
   "execution_count": 156,
   "id": "2f0c7787",
   "metadata": {},
   "outputs": [],
   "source": [
    "target_train = target_train[target_train['pdv_produto'].isin(x_df_train['pdv_produto'])]"
   ]
  },
  {
   "cell_type": "code",
   "execution_count": 157,
   "id": "2f3e3312",
   "metadata": {},
   "outputs": [
    {
     "data": {
      "text/plain": [
       "(4209, 54, 7, 4209, 22, 14)"
      ]
     },
     "execution_count": 157,
     "metadata": {},
     "output_type": "execute_result"
    }
   ],
   "source": [
    "full_df.marca.nunique(), full_df.categoria_pdv.nunique(), full_df.categoria.nunique(), full_df.marca.nunique(), full_df.tipos.nunique(), full_df.label.nunique()"
   ]
  },
  {
   "cell_type": "code",
   "execution_count": 158,
   "id": "a78f1d7a",
   "metadata": {},
   "outputs": [
    {
     "data": {
      "text/plain": [
       "array(['Package', 'Non-Alcohol', 'ABA Spirits', 'Draft', 'Wine',\n",
       "       'Distilled Spirits', 'Tobacco'], dtype=object)"
      ]
     },
     "execution_count": 158,
     "metadata": {},
     "output_type": "execute_result"
    }
   ],
   "source": [
    "full_df.categoria.unique()"
   ]
  },
  {
   "cell_type": "code",
   "execution_count": 159,
   "id": "65f9cfda",
   "metadata": {},
   "outputs": [
    {
     "data": {
      "text/plain": [
       "array(['Package', 'Non Alcohol', 'Wine > 14 %', 'Draft', 'Wine < 14 %',\n",
       "       'N/A Beer', 'Distilled Spirits-RTD', 'Distilled Spirits',\n",
       "       'Talking Rain', 'Wine RTD', 'Cider Pkg', 'Wine < 14 % - Domestic',\n",
       "       'Hispanic', 'Allocated Spirits', 'Distilled Spirits-Domest',\n",
       "       'Dist Spirits-RTD Domestic', 'MB Wine < 14 %', 'Cider Dft',\n",
       "       'Dairy', 'Non Alcohol W&S', 'Tobacco', 'Pkg 3.2'], dtype=object)"
      ]
     },
     "execution_count": 159,
     "metadata": {},
     "output_type": "execute_result"
    }
   ],
   "source": [
    "full_df.tipos.unique()"
   ]
  },
  {
   "cell_type": "code",
   "execution_count": 160,
   "id": "70d0bb30",
   "metadata": {},
   "outputs": [
    {
     "data": {
      "text/plain": [
       "array(['Convenience', 'Package/Liquor', 'Irish', 'Restaurant', 'Theatre',\n",
       "       'Super Center', 'Grocery', 'Bar', 'Barbeque', 'Mexican Rest',\n",
       "       'Italian', 'Billiard/Bowling', 'Service Org', 'Pizza', 'Asian',\n",
       "       'Church', 'Sports/Rec Club', 'Hotel/Motel', 'Stadium/Concession',\n",
       "       'Special Event', 'Drug', 'Banquet/Caterer', 'Club Store',\n",
       "       'Airline/Airport', 'All Other N/A On Premise', 'Sample Room',\n",
       "       'Night Club', 'Golf - Public', 'Coffee House', 'Bodega',\n",
       "       'Neighborhood Store', 'Golf - Private', 'Salon/Spa/Tann',\n",
       "       'Adult Entertainment', 'Music Venue', 'Gay Bar', 'Korean',\n",
       "       'Military', 'Sub Distributor', 'Other On Premise', 'Theme Park',\n",
       "       'Winery', 'Country/Western', 'Other Off Premise',\n",
       "       'Non-Traditional', 'Race Track', 'French',\n",
       "       'All Other N/A Off Premise', 'Gym/Fitness', 'German', 'Casino',\n",
       "       'Health Club', 'Marina / Lake', 'Mass Merch'], dtype=object)"
      ]
     },
     "execution_count": 160,
     "metadata": {},
     "output_type": "execute_result"
    }
   ],
   "source": [
    "full_df.categoria_pdv.unique()"
   ]
  },
  {
   "cell_type": "code",
   "execution_count": 161,
   "id": "b3d3a445",
   "metadata": {},
   "outputs": [
    {
     "data": {
      "text/plain": [
       "array(['Core', 'Discontinued', 'In&Out', None, 'Close Out', 'Specialty',\n",
       "       'Winter Seasonal', 'Fall Seasonal', 'Private Label',\n",
       "       'Summer Seasonal', 'Spring Seasonal', 'Speciality', 'Clearing',\n",
       "       'Allocated', 'Other'], dtype=object)"
      ]
     },
     "execution_count": 161,
     "metadata": {},
     "output_type": "execute_result"
    }
   ],
   "source": [
    "full_df.label.unique()"
   ]
  },
  {
   "cell_type": "code",
   "execution_count": 162,
   "id": "3626de0a",
   "metadata": {},
   "outputs": [
    {
     "data": {
      "text/plain": [
       "array(['Michelob Ultra', 'Bud Light', 'Natural Light', ...,\n",
       "       'Echo de Lynch Bages', 'Chateau Grand Barrail Lamarzelle Figeac',\n",
       "       'Wicked Weed Perni-Haze Hazy IPA'], shape=(4209,), dtype=object)"
      ]
     },
     "execution_count": 162,
     "metadata": {},
     "output_type": "execute_result"
    }
   ],
   "source": [
    "full_df.marca.unique()"
   ]
  },
  {
   "cell_type": "code",
   "execution_count": 163,
   "id": "d453bb0f",
   "metadata": {},
   "outputs": [
    {
     "data": {
      "text/plain": [
       "pdv                                  1001371918471115422\n",
       "zipcode                                            30175\n",
       "produto                              1029370090212151375\n",
       "semana                                                 1\n",
       "mes                                                    1\n",
       "ano                                                 2022\n",
       "categoria_pdv                                Convenience\n",
       "categoria                                        Package\n",
       "premise                                      Off Premise\n",
       "tipos                                            Package\n",
       "label                                               Core\n",
       "marca                                     Michelob Ultra\n",
       "fabricante                         AB Anheuser Busch Inc\n",
       "descricao                      MICHELOB ULTRA 2/12/12 CN\n",
       "gross_value                                    54.299999\n",
       "net_value                                      49.740486\n",
       "gross_profit                                   16.224486\n",
       "discount                                             0.0\n",
       "taxes                                           4.559516\n",
       "quantidade                                           2.0\n",
       "pdv_produto      1001371918471115422_1029370090212151375\n",
       "Name: 0, dtype: object"
      ]
     },
     "execution_count": 163,
     "metadata": {},
     "output_type": "execute_result"
    }
   ],
   "source": [
    "full_df.iloc[0]"
   ]
  },
  {
   "cell_type": "code",
   "execution_count": 164,
   "id": "8fe0bda2",
   "metadata": {},
   "outputs": [],
   "source": [
    "# Candidatos a features:\n",
    "# Categóricas:\n",
    "# - label\n",
    "# - categoria_pdv\n",
    "# - categoria\n",
    "# - marca (1940 casos)\n",
    "\n",
    "# Númericas:\n",
    "# quantidade\n",
    "# discount\n",
    "\n",
    "# Temporais:\n"
   ]
  },
  {
   "cell_type": "code",
   "execution_count": 218,
   "id": "8c4bfb25",
   "metadata": {},
   "outputs": [],
   "source": [
    "# Select only pdv_produto rows where in target_df there are more than 4 entries\n",
    "\n",
    "values = (target_train.pdv_produto.value_counts() >= 4).values\n",
    "filtered_target_train = target_train[target_train['pdv_produto'].isin(target_train.pdv_produto.value_counts()[values].index)]\n",
    "\n",
    "values = (target_val.pdv_produto.value_counts() >= 4).values\n",
    "filtered_target_val = target_val[target_val['pdv_produto'].isin(target_val.pdv_produto.value_counts()[values].index)]"
   ]
  },
  {
   "cell_type": "code",
   "execution_count": 219,
   "id": "8e85fde0",
   "metadata": {},
   "outputs": [
    {
     "data": {
      "text/plain": [
       "((64405, 7), (100935, 7))"
      ]
     },
     "execution_count": 219,
     "metadata": {},
     "output_type": "execute_result"
    }
   ],
   "source": [
    "filtered_target_train.shape, filtered_target_val.shape"
   ]
  },
  {
   "cell_type": "code",
   "execution_count": 220,
   "id": "1aa37e0d",
   "metadata": {},
   "outputs": [
    {
     "data": {
      "text/plain": [
       "(15306, 22251)"
      ]
     },
     "execution_count": 220,
     "metadata": {},
     "output_type": "execute_result"
    }
   ],
   "source": [
    "filtered_target_train_week_1 = filtered_target_train[filtered_target_train['semana'] == 1]\n",
    "filtered_target_train_week_1.pdv_produto.nunique()\n",
    "\n",
    "filtered_target_val_week_1 = filtered_target_val[filtered_target_val['semana'] == 1]\n",
    "filtered_target_train_week_1.pdv_produto.nunique(), filtered_target_val_week_1.pdv_produto.nunique()"
   ]
  },
  {
   "cell_type": "code",
   "execution_count": 221,
   "id": "f56b9f26",
   "metadata": {},
   "outputs": [
    {
     "data": {
      "text/plain": [
       "15306"
      ]
     },
     "execution_count": 221,
     "metadata": {},
     "output_type": "execute_result"
    }
   ],
   "source": [
    "filtered_X_train = x_df_train[x_df_train['pdv_produto'].isin(filtered_target_train_week_1['pdv_produto'])]\n",
    "filtered_X_train.shape\n",
    "filtered_X_train.pdv_produto.nunique()"
   ]
  },
  {
   "cell_type": "code",
   "execution_count": 222,
   "id": "e33b86ef",
   "metadata": {},
   "outputs": [
    {
     "data": {
      "text/plain": [
       "23126"
      ]
     },
     "execution_count": 222,
     "metadata": {},
     "output_type": "execute_result"
    }
   ],
   "source": [
    "filtered_X_val = x_df_val[x_df_val['pdv_produto'].isin(filtered_target_val['pdv_produto'])]\n",
    "filtered_X_val.shape\n",
    "filtered_X_val.pdv_produto.nunique()"
   ]
  },
  {
   "cell_type": "code",
   "execution_count": 223,
   "id": "dc722da0",
   "metadata": {},
   "outputs": [],
   "source": [
    "filtered_X_train;"
   ]
  },
  {
   "cell_type": "code",
   "execution_count": 224,
   "id": "b4eb6bdd",
   "metadata": {},
   "outputs": [],
   "source": [
    "def aggr_df(df):\n",
    "    # In filtered X, create features such as \"quantidade_semana_1\", \"quantidade_semana_2\", \"quantidade_semana_3\", \"quantidade_semana_4\" for each pdv_produto value\n",
    "    filtered_df = df.copy()\n",
    "    filtered_X_agg = filtered_df.pivot_table(index='pdv_produto', columns='semana', values='quantidade', aggfunc='sum')\n",
    "    filtered_X_agg.columns = [f'quantidade_semana_{col}' for col in filtered_X_agg.columns]\n",
    "    filtered_X_agg = filtered_X_agg.reset_index()\n",
    "    # Also create features discount_semana_1, discount_semana_2, discount_semana_3, discount_semana_4\n",
    "    discount_agg = filtered_df.pivot_table(index='pdv_produto', columns='semana', values='discount', aggfunc='sum')\n",
    "    discount_agg.columns = [f'discount_semana_{col}' for col in discount_agg.columns]\n",
    "    discount_agg = discount_agg.reset_index()\n",
    "    # For categorical features, create features such as \"label\", \"categoria_pdv\", \"categoria\" using the first value found for that pdv_produto\n",
    "    categorical_agg = filtered_X.groupby('pdv_produto').agg({\n",
    "        'label': 'first',\n",
    "        'categoria_pdv': 'first',\n",
    "        'categoria': 'first',\n",
    "        #'marca': 'first',\n",
    "        #'tipos': 'first'\n",
    "    }).reset_index()\n",
    "    # Merge all features into a single dataframe\n",
    "    filtered_X_agg = filtered_X_agg.merge(discount_agg, on='pdv_produto', how='left')\n",
    "    filtered_X_agg = filtered_X_agg.merge(categorical_agg, on='pdv_produto', how='left')\n",
    "    filtered_X_agg = filtered_X_agg.fillna(0)\n",
    "\n",
    "    # For each categorical feature, perform one-hot encoding (label, categoria_pdv, categoria, tipos)\n",
    "    categorical_features = ['label', 'categoria_pdv', 'categoria']\n",
    "    filtered_X_agg = pd.get_dummies(filtered_X_agg, columns=categorical_features, drop_first=True)\n",
    "\n",
    "    return filtered_X_agg\n",
    "\n",
    "filtered_train = aggr_df(filtered_X_train)\n",
    "filtered_val = aggr_df(filtered_X_val)"
   ]
  },
  {
   "cell_type": "code",
   "execution_count": 225,
   "id": "bba8c00e",
   "metadata": {},
   "outputs": [],
   "source": [
    "train_week1 = filtered_train.merge(filtered_target_train_week_1[['pdv_produto', 'quantidade']], on='pdv_produto', how='left')\n",
    "val_week1 = filtered_val.merge(filtered_target_val_week_1[['pdv_produto', 'quantidade']], on='pdv_produto', how='left')"
   ]
  },
  {
   "cell_type": "code",
   "execution_count": 226,
   "id": "8edb8cad",
   "metadata": {},
   "outputs": [],
   "source": [
    "X1_train = train_week1.drop(columns=['pdv_produto', 'quantidade'])\n",
    "y1_train = train_week1['quantidade']\n",
    "\n",
    "X1_val = val_week1.drop(columns=['pdv_produto', 'quantidade'])\n",
    "y1_val = val_week1['quantidade']"
   ]
  },
  {
   "cell_type": "code",
   "execution_count": 227,
   "id": "9439cca3",
   "metadata": {},
   "outputs": [],
   "source": [
    "# Replace any blank space in columns with _\n",
    "#X.columns = X.columns.str.replace(' ', '_')"
   ]
  },
  {
   "cell_type": "code",
   "execution_count": 228,
   "id": "04e9d1b1",
   "metadata": {},
   "outputs": [
    {
     "data": {
      "text/plain": [
       "((46,), (15306,), (23126, 48), (23126,))"
      ]
     },
     "execution_count": 228,
     "metadata": {},
     "output_type": "execute_result"
    }
   ],
   "source": [
    "X1_train.columns.shape, y1_train.shape, X1_val.shape, y1_val.shape"
   ]
  },
  {
   "cell_type": "code",
   "execution_count": 229,
   "id": "5540bd6f",
   "metadata": {},
   "outputs": [],
   "source": [
    "# Create X1_train columns that are missing and are in X1_val\n",
    "for col in X1_val.columns:\n",
    "    if col not in X1_train.columns:\n",
    "        X1_train[col] = 0\n",
    "\n",
    "for col in X1_train.columns:\n",
    "    if col not in X1_val.columns:\n",
    "        X1_val[col] = 0"
   ]
  },
  {
   "cell_type": "code",
   "execution_count": 230,
   "id": "854425bd",
   "metadata": {},
   "outputs": [
    {
     "data": {
      "text/plain": [
       "((49,), (49,), (23126,))"
      ]
     },
     "execution_count": 230,
     "metadata": {},
     "output_type": "execute_result"
    }
   ],
   "source": [
    "X1_train.columns.shape, X1_val.columns.shape, y1_val.shape"
   ]
  },
  {
   "cell_type": "code",
   "execution_count": 265,
   "id": "311ab4b5",
   "metadata": {},
   "outputs": [
    {
     "name": "stdout",
     "output_type": "stream",
     "text": [
      "[LightGBM] [Warning] Found whitespace in feature_names, replace with underlines\n",
      "[LightGBM] [Info] Auto-choosing col-wise multi-threading, the overhead of testing was 0.000792 seconds.\n",
      "You can set `force_col_wise=true` to remove the overhead.\n",
      "[LightGBM] [Info] Total Bins 1612\n",
      "[LightGBM] [Info] Number of data points in the train set: 15306, number of used features: 30\n",
      "[LightGBM] [Warning] Found whitespace in feature_names, replace with underlines\n",
      "[LightGBM] [Info] Start training from score 4.571478\n",
      "Training until validation scores don't improve for 1000 rounds\n",
      "Did not meet early stopping. Best iteration is:\n",
      "[97]\tvalid_0's l2: 18.9312\tvalid_0's wmape: 0.458128\n",
      "WMAPE Train - Week 1: 0.3599\n",
      "WMAPE Val - Week 1: 0.3951\n"
     ]
    }
   ],
   "source": [
    "import lightgbm as lgb\n",
    "import numpy as np\n",
    "\n",
    "def wmape_metric(y_true, y_pred):\n",
    "    \"\"\"\n",
    "    Calcula o Weighted Mean Absolute Percentage Error (wMAPE) para o LightGBM.\n",
    "    A função precisa retornar uma lista de tuplas no formato:\n",
    "    (nome_da_metrica, valor_da_metrica, is_higher_better)\n",
    "    \"\"\"\n",
    "    sum_of_true_values = np.sum(np.abs(y_true))\n",
    "    if sum_of_true_values == 0:\n",
    "        return [('wmape', 0.0, False)] # Se não há vendas, o erro é zero.\n",
    "\n",
    "    wmape_score = np.sum(np.abs(y_true - y_pred)) / sum_of_true_values\n",
    "    \n",
    "    return [('wmape', wmape_score, False)]\n",
    "\n",
    "lgbm = lgb.LGBMRegressor(\n",
    "    objective='regression',\n",
    "    metric=None,\n",
    "    n_estimators=100,\n",
    "    learning_rate=0.05,\n",
    "    random_state=41,\n",
    "    #max_depth=50,\n",
    "    num_leaves=10,\n",
    "    min_child_samples=10,\n",
    "    reg_alpha=0.01,\n",
    "    reg_lambda=0.01,\n",
    ")\n",
    "\n",
    "lgbm.fit(\n",
    "    X1_train, \n",
    "    y1_train,\n",
    "    eval_metric=wmape_metric,\n",
    "    eval_set=[(X1_val, y1_val)],\n",
    "    callbacks=[lgb.early_stopping(1000, verbose=True)], # Para o treino se a métrica não melhorar em 200 rodadas\n",
    "    #categorical_feature=['pdv_id', 'product_id'] # Informa quais colunas são categóricas\n",
    ")\n",
    "\n",
    "# --- 4. Previsão e Avaliação ---\n",
    "y_pred_train = lgbm.predict(X1_train)\n",
    "y_pred = lgbm.predict(X1_val)\n",
    "\n",
    "wmape_train = np.sum(np.abs(y1_train - y_pred_train)) / np.sum(np.abs(y1_train))\n",
    "print(f\"WMAPE Train - Week 1: {wmape_train:.4f}\")\n",
    "\n",
    "wmape_val = np.sum(np.abs(y1_val - y_pred)) / np.sum(np.abs(y1_val))\n",
    "print(f\"WMAPE Val - Week 1: {wmape_val:.4f}\")\n"
   ]
  },
  {
   "cell_type": "code",
   "execution_count": 262,
   "id": "271539a7",
   "metadata": {},
   "outputs": [],
   "source": [
    "filtered_target_train_week_2 = filtered_target_train[filtered_target_train['semana'] == 2]\n",
    "filtered_target_val_week_2 = filtered_target_val[filtered_target_val['semana'] == 2]\n",
    "\n",
    "filtered_X_train = x_df_train[x_df_train['pdv_produto'].isin(filtered_target_train_week_2['pdv_produto'])]\n",
    "filtered_X_val = x_df_val[x_df_val['pdv_produto'].isin(filtered_target_val_week_2['pdv_produto'])]\n",
    "\n",
    "filtered_train = aggr_df(filtered_X_train)\n",
    "filtered_val = aggr_df(filtered_X_val)\n",
    "\n",
    "train_week2 = filtered_train.merge(filtered_target_train_week_2[['pdv_produto', 'quantidade']], on='pdv_produto', how='left')\n",
    "val_week2 = filtered_val.merge(filtered_target_val_week_2[['pdv_produto', 'quantidade']], on='pdv_produto', how='left')\n",
    "\n",
    "X2_train = train_week2.drop(columns=['pdv_produto', 'quantidade'])\n",
    "y2_train = train_week2['quantidade']\n",
    "\n",
    "X2_val = val_week2.drop(columns=['pdv_produto', 'quantidade'])\n",
    "y2_val = val_week2['quantidade']\n",
    "\n",
    "# Create X2_train columns that are missing and are in X2_val\n",
    "for col in X2_val.columns:\n",
    "    if col not in X2_train.columns:\n",
    "        X2_train[col] = 0\n",
    "\n",
    "for col in X2_train.columns:\n",
    "    if col not in X2_val.columns:\n",
    "        X2_val[col] = 0"
   ]
  },
  {
   "cell_type": "code",
   "execution_count": 266,
   "id": "1d068a5e",
   "metadata": {},
   "outputs": [
    {
     "name": "stdout",
     "output_type": "stream",
     "text": [
      "[LightGBM] [Warning] Found whitespace in feature_names, replace with underlines\n",
      "[LightGBM] [Info] Auto-choosing col-wise multi-threading, the overhead of testing was 0.000755 seconds.\n",
      "You can set `force_col_wise=true` to remove the overhead.\n",
      "[LightGBM] [Info] Total Bins 1615\n",
      "[LightGBM] [Info] Number of data points in the train set: 15233, number of used features: 30\n",
      "[LightGBM] [Warning] Found whitespace in feature_names, replace with underlines\n",
      "[LightGBM] [Info] Start training from score 4.558111\n",
      "Training until validation scores don't improve for 1000 rounds\n",
      "Did not meet early stopping. Best iteration is:\n",
      "[129]\tvalid_0's l2: 17.1829\tvalid_0's wmape: 0.401728\n",
      "WMAPE Train - Week 2: 0.3657\n",
      "WMAPE Val - Week 2: 0.4017\n"
     ]
    }
   ],
   "source": [
    "import lightgbm as lgb\n",
    "import numpy as np\n",
    "\n",
    "lgbm = lgb.LGBMRegressor(\n",
    "    objective='regression',\n",
    "    metric=None,\n",
    "    n_estimators=200,\n",
    "    learning_rate=0.05,\n",
    "    random_state=41,\n",
    "    #max_depth=50,\n",
    "    num_leaves=10,\n",
    "    min_child_samples=10,\n",
    "    reg_alpha=0.01,\n",
    "    reg_lambda=0.01,\n",
    ")\n",
    "\n",
    "lgbm.fit(\n",
    "    X2_train, \n",
    "    y2_train,\n",
    "    eval_metric=wmape_metric,\n",
    "    eval_set=[(X2_val, y2_val)],\n",
    "    callbacks=[lgb.early_stopping(1000, verbose=True)], # Para o treino se a métrica não melhorar em 200 rodadas\n",
    "    #categorical_feature=['pdv_id', 'product_id'] # Informa quais colunas são categóricas\n",
    ")\n",
    "\n",
    "# --- 4. Previsão e Avaliação ---\n",
    "y_pred_train = lgbm.predict(X2_train)\n",
    "y_pred = lgbm.predict(X2_val)\n",
    "\n",
    "wmape_train = np.sum(np.abs(y2_train - y_pred_train)) / np.sum(np.abs(y2_train))\n",
    "print(f\"WMAPE Train - Week 2: {wmape_train:.4f}\")\n",
    "\n",
    "wmape_val = np.sum(np.abs(y2_val - y_pred)) / np.sum(np.abs(y2_val))\n",
    "print(f\"WMAPE Val - Week 2: {wmape_val:.4f}\")\n"
   ]
  },
  {
   "cell_type": "code",
   "execution_count": null,
   "id": "933bd34e",
   "metadata": {},
   "outputs": [],
   "source": []
  },
  {
   "cell_type": "code",
   "execution_count": null,
   "id": "35939965",
   "metadata": {},
   "outputs": [],
   "source": []
  }
 ],
 "metadata": {
  "kernelspec": {
   "display_name": "hackathon-big-data-2025",
   "language": "python",
   "name": "python3"
  },
  "language_info": {
   "codemirror_mode": {
    "name": "ipython",
    "version": 3
   },
   "file_extension": ".py",
   "mimetype": "text/x-python",
   "name": "python",
   "nbconvert_exporter": "python",
   "pygments_lexer": "ipython3",
   "version": "3.11.5"
  }
 },
 "nbformat": 4,
 "nbformat_minor": 5
}
