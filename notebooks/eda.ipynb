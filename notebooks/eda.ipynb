{
 "cells": [
  {
   "cell_type": "code",
   "execution_count": 1,
   "id": "55c2d151",
   "metadata": {},
   "outputs": [],
   "source": [
    "import pandas as pd\n",
    "\n",
    "pre_separated_data = True"
   ]
  },
  {
   "cell_type": "code",
   "execution_count": 2,
   "id": "7b9a4047",
   "metadata": {},
   "outputs": [],
   "source": [
    "df1_path = \"/data/challenges/hackathon_bigdata_2025/raw_data/part-00000-tid-2779033056155408584-f6316110-4c9a-4061-ae48-69b77c7c8c36-4-1-c000.snappy.parquet\"\n",
    "df2_path = \"/data/challenges/hackathon_bigdata_2025/raw_data/part-00000-tid-5196563791502273604-c90d3a24-52f2-4955-b4ec-fb143aae74d8-4-1-c000.snappy.parquet\"\n",
    "df3_path = \"/data/challenges/hackathon_bigdata_2025/raw_data/part-00000-tid-6364321654468257203-dc13a5d6-36ae-48c6-a018-37d8cfe34cf6-263-1-c000.snappy.parquet\""
   ]
  },
  {
   "cell_type": "code",
   "execution_count": 3,
   "id": "a967b1eb",
   "metadata": {},
   "outputs": [],
   "source": [
    "df = pd.read_parquet(df1_path)\n",
    "df2 = pd.read_parquet(df2_path)\n",
    "\n",
    "# Df3 é bem pesado (vai lotar a memoria, acho que precisamos usar o polars aqui)\n",
    "#df3 = pd.read_parquet(\"/data/challenges/hackathon_bigdata_2025/raw_data/part-00000-tid-6364321654468257203-dc13a5d6-36ae-48c6-a018-37d8cfe34cf6-263-1-c000.snappy.parquet\")"
   ]
  },
  {
   "cell_type": "code",
   "execution_count": 4,
   "id": "7afe60da",
   "metadata": {},
   "outputs": [],
   "source": [
    "if not pre_separated_data:\n",
    "    import polars as pl\n",
    "\n",
    "    df3 = pl.read_parquet(df3_path)\n",
    "    print(df3.shape)\n",
    "\n",
    "    total_rows = df3.shape[0]\n",
    "    chunk_size = total_rows // 10  # Integer division to get the chunk size\n",
    "\n",
    "    for i in range(10):\n",
    "        start_index = i * chunk_size\n",
    "        end_index = start_index + chunk_size\n",
    "        \n",
    "        if i == 9:\n",
    "            chunk = df3.slice(start_index)\n",
    "        else:\n",
    "            chunk = df3.slice(start_index, chunk_size)\n",
    "\n",
    "        output_filename = df3_path.strip(\".snappy.parquet\") + f\"_part_{i+1}.parquet\"\n",
    "        \n",
    "        chunk.write_parquet(output_filename)\n",
    "        print(f\"Written {output_filename}\")"
   ]
  },
  {
   "cell_type": "code",
   "execution_count": 5,
   "id": "9212ccc1",
   "metadata": {},
   "outputs": [],
   "source": [
    "if pre_separated_data:\n",
    "    all_dfs = []\n",
    "    for i in range(10):\n",
    "        df3 = pd.read_parquet(df3_path.strip(\".snappy.parquet\") + f\"_part_{i+1}.parquet\")\n",
    "        all_dfs.append(df3)\n",
    "    df3 = pd.concat(all_dfs, ignore_index=True)\n",
    "    del all_dfs"
   ]
  },
  {
   "cell_type": "code",
   "execution_count": 6,
   "id": "d5a89679",
   "metadata": {},
   "outputs": [
    {
     "data": {
      "text/html": [
       "<div>\n",
       "<style scoped>\n",
       "    .dataframe tbody tr th:only-of-type {\n",
       "        vertical-align: middle;\n",
       "    }\n",
       "\n",
       "    .dataframe tbody tr th {\n",
       "        vertical-align: top;\n",
       "    }\n",
       "\n",
       "    .dataframe thead th {\n",
       "        text-align: right;\n",
       "    }\n",
       "</style>\n",
       "<table border=\"1\" class=\"dataframe\">\n",
       "  <thead>\n",
       "    <tr style=\"text-align: right;\">\n",
       "      <th></th>\n",
       "      <th>produto</th>\n",
       "      <th>categoria</th>\n",
       "      <th>descricao</th>\n",
       "      <th>tipos</th>\n",
       "      <th>label</th>\n",
       "      <th>subcategoria</th>\n",
       "      <th>marca</th>\n",
       "      <th>fabricante</th>\n",
       "    </tr>\n",
       "  </thead>\n",
       "  <tbody>\n",
       "    <tr>\n",
       "      <th>0</th>\n",
       "      <td>69753381296344216</td>\n",
       "      <td>Package</td>\n",
       "      <td>MONDAY NIGHT BREW DON'T CALL IT HOTLANTA 6/4/1...</td>\n",
       "      <td>Package</td>\n",
       "      <td>In&amp;Out</td>\n",
       "      <td>Red Wine</td>\n",
       "      <td>Monday Night Don't Call It Hotlanta</td>\n",
       "      <td>Monday Night Brewing</td>\n",
       "    </tr>\n",
       "    <tr>\n",
       "      <th>1</th>\n",
       "      <td>5019314249828979377</td>\n",
       "      <td>Distilled Spirits</td>\n",
       "      <td>BARRELL V907 RED PHONE BOOTH &amp; TOWER</td>\n",
       "      <td>Distilled Spirits</td>\n",
       "      <td>Specialty</td>\n",
       "      <td>Lager / Pilsner</td>\n",
       "      <td>Barrell Bourbon- Private Label</td>\n",
       "      <td>Barrell Craft Spirits</td>\n",
       "    </tr>\n",
       "    <tr>\n",
       "      <th>2</th>\n",
       "      <td>4016404282141162328</td>\n",
       "      <td>Distilled Spirits</td>\n",
       "      <td>DRINKWORKS SIMPLY REFRESHING GIN &amp; TONIC 12/4/...</td>\n",
       "      <td>Distilled Spirits</td>\n",
       "      <td>Core</td>\n",
       "      <td>Lager</td>\n",
       "      <td>Drinkworks Simply Refreshing Gin &amp; Tonic</td>\n",
       "      <td>AB Drinkworks</td>\n",
       "    </tr>\n",
       "    <tr>\n",
       "      <th>3</th>\n",
       "      <td>6217366559810422145</td>\n",
       "      <td>Distilled Spirits</td>\n",
       "      <td>CENZON REPOSADO 100% AGAVE 6/750ML 80PF</td>\n",
       "      <td>Distilled Spirits</td>\n",
       "      <td>None</td>\n",
       "      <td>Lager</td>\n",
       "      <td>Cenzon Reposado 100% Agave Tequila</td>\n",
       "      <td>Sazerac Spirits</td>\n",
       "    </tr>\n",
       "    <tr>\n",
       "      <th>4</th>\n",
       "      <td>7356488787409434558</td>\n",
       "      <td>Draft</td>\n",
       "      <td>REFORMATION STARK 1/4 KEG</td>\n",
       "      <td>Draft</td>\n",
       "      <td>Core</td>\n",
       "      <td>Red Wine</td>\n",
       "      <td>Reformation Stark</td>\n",
       "      <td>Reformation Brewery</td>\n",
       "    </tr>\n",
       "    <tr>\n",
       "      <th>...</th>\n",
       "      <td>...</td>\n",
       "      <td>...</td>\n",
       "      <td>...</td>\n",
       "      <td>...</td>\n",
       "      <td>...</td>\n",
       "      <td>...</td>\n",
       "      <td>...</td>\n",
       "      <td>...</td>\n",
       "    </tr>\n",
       "    <tr>\n",
       "      <th>192356311</th>\n",
       "      <td>2910976334046702887</td>\n",
       "      <td>ABA Spirits</td>\n",
       "      <td>SAZERAC OLD WESTBURY GIN WNBS 1LTR 42PRF</td>\n",
       "      <td>Wine &gt; 14 %</td>\n",
       "      <td>Core</td>\n",
       "      <td>Lager</td>\n",
       "      <td>Old Westbury Extra Dry Gin</td>\n",
       "      <td>Sazerac ABA</td>\n",
       "    </tr>\n",
       "    <tr>\n",
       "      <th>192356312</th>\n",
       "      <td>997545005038320324</td>\n",
       "      <td>Package</td>\n",
       "      <td>TX RANCH WATER LIME 4/6 CN</td>\n",
       "      <td>Package</td>\n",
       "      <td>Core</td>\n",
       "      <td>Soda</td>\n",
       "      <td>TX Ranch Water Lime</td>\n",
       "      <td>MPL Brands NV/Patco</td>\n",
       "    </tr>\n",
       "    <tr>\n",
       "      <th>192356313</th>\n",
       "      <td>5342092316314076162</td>\n",
       "      <td>Draft</td>\n",
       "      <td>TANTRUM POEMS AT MIDNIGHT RASPBERRY BLACKBERRY...</td>\n",
       "      <td>Draft</td>\n",
       "      <td>Discontinued</td>\n",
       "      <td>Energy</td>\n",
       "      <td>Tantrum Poems at Midnight Raspberry Blackberry</td>\n",
       "      <td>Tantrum Brewing Co</td>\n",
       "    </tr>\n",
       "    <tr>\n",
       "      <th>192356314</th>\n",
       "      <td>8663495453589323322</td>\n",
       "      <td>Wine</td>\n",
       "      <td>SALVESTRIN RETTAGIO 2019</td>\n",
       "      <td>Wine &gt; 14 %</td>\n",
       "      <td>Close Out</td>\n",
       "      <td>Lager</td>\n",
       "      <td>Salvestrin Rettagio</td>\n",
       "      <td>Salvestrin Wine Company</td>\n",
       "    </tr>\n",
       "    <tr>\n",
       "      <th>192356315</th>\n",
       "      <td>1933905639949913855</td>\n",
       "      <td>Distilled Spirits</td>\n",
       "      <td>STROUDWATER RYE</td>\n",
       "      <td>Distilled Spirits</td>\n",
       "      <td>Close Out</td>\n",
       "      <td>Lager</td>\n",
       "      <td>Stroudwater Rye</td>\n",
       "      <td>Northstar Brands</td>\n",
       "    </tr>\n",
       "  </tbody>\n",
       "</table>\n",
       "<p>192356316 rows × 8 columns</p>\n",
       "</div>"
      ],
      "text/plain": [
       "                       produto          categoria  \\\n",
       "0            69753381296344216            Package   \n",
       "1          5019314249828979377  Distilled Spirits   \n",
       "2          4016404282141162328  Distilled Spirits   \n",
       "3          6217366559810422145  Distilled Spirits   \n",
       "4          7356488787409434558              Draft   \n",
       "...                        ...                ...   \n",
       "192356311  2910976334046702887        ABA Spirits   \n",
       "192356312   997545005038320324            Package   \n",
       "192356313  5342092316314076162              Draft   \n",
       "192356314  8663495453589323322               Wine   \n",
       "192356315  1933905639949913855  Distilled Spirits   \n",
       "\n",
       "                                                   descricao  \\\n",
       "0          MONDAY NIGHT BREW DON'T CALL IT HOTLANTA 6/4/1...   \n",
       "1                       BARRELL V907 RED PHONE BOOTH & TOWER   \n",
       "2          DRINKWORKS SIMPLY REFRESHING GIN & TONIC 12/4/...   \n",
       "3                    CENZON REPOSADO 100% AGAVE 6/750ML 80PF   \n",
       "4                                  REFORMATION STARK 1/4 KEG   \n",
       "...                                                      ...   \n",
       "192356311           SAZERAC OLD WESTBURY GIN WNBS 1LTR 42PRF   \n",
       "192356312                         TX RANCH WATER LIME 4/6 CN   \n",
       "192356313  TANTRUM POEMS AT MIDNIGHT RASPBERRY BLACKBERRY...   \n",
       "192356314                           SALVESTRIN RETTAGIO 2019   \n",
       "192356315                                    STROUDWATER RYE   \n",
       "\n",
       "                       tipos         label     subcategoria  \\\n",
       "0                    Package        In&Out         Red Wine   \n",
       "1          Distilled Spirits     Specialty  Lager / Pilsner   \n",
       "2          Distilled Spirits          Core            Lager   \n",
       "3          Distilled Spirits          None            Lager   \n",
       "4                      Draft          Core         Red Wine   \n",
       "...                      ...           ...              ...   \n",
       "192356311        Wine > 14 %          Core            Lager   \n",
       "192356312            Package          Core             Soda   \n",
       "192356313              Draft  Discontinued           Energy   \n",
       "192356314        Wine > 14 %     Close Out            Lager   \n",
       "192356315  Distilled Spirits     Close Out            Lager   \n",
       "\n",
       "                                                    marca  \\\n",
       "0                     Monday Night Don't Call It Hotlanta   \n",
       "1                          Barrell Bourbon- Private Label   \n",
       "2                Drinkworks Simply Refreshing Gin & Tonic   \n",
       "3                      Cenzon Reposado 100% Agave Tequila   \n",
       "4                                       Reformation Stark   \n",
       "...                                                   ...   \n",
       "192356311                      Old Westbury Extra Dry Gin   \n",
       "192356312                             TX Ranch Water Lime   \n",
       "192356313  Tantrum Poems at Midnight Raspberry Blackberry   \n",
       "192356314                             Salvestrin Rettagio   \n",
       "192356315                                 Stroudwater Rye   \n",
       "\n",
       "                        fabricante  \n",
       "0             Monday Night Brewing  \n",
       "1            Barrell Craft Spirits  \n",
       "2                    AB Drinkworks  \n",
       "3                  Sazerac Spirits  \n",
       "4              Reformation Brewery  \n",
       "...                            ...  \n",
       "192356311              Sazerac ABA  \n",
       "192356312      MPL Brands NV/Patco  \n",
       "192356313       Tantrum Brewing Co  \n",
       "192356314  Salvestrin Wine Company  \n",
       "192356315         Northstar Brands  \n",
       "\n",
       "[192356316 rows x 8 columns]"
      ]
     },
     "execution_count": 6,
     "metadata": {},
     "output_type": "execute_result"
    }
   ],
   "source": [
    "df3"
   ]
  },
  {
   "cell_type": "code",
   "execution_count": 7,
   "id": "00ee2db5",
   "metadata": {},
   "outputs": [
    {
     "data": {
      "text/plain": [
       "Index(['pdv', 'premise', 'categoria_pdv', 'zipcode'], dtype='object')"
      ]
     },
     "execution_count": 7,
     "metadata": {},
     "output_type": "execute_result"
    }
   ],
   "source": [
    "df.columns"
   ]
  },
  {
   "cell_type": "code",
   "execution_count": 8,
   "id": "d987134e",
   "metadata": {},
   "outputs": [
    {
     "data": {
      "text/plain": [
       "Index(['internal_store_id', 'internal_product_id', 'distributor_id',\n",
       "       'transaction_date', 'reference_date', 'quantity', 'gross_value',\n",
       "       'net_value', 'gross_profit', 'discount', 'taxes'],\n",
       "      dtype='object')"
      ]
     },
     "execution_count": 8,
     "metadata": {},
     "output_type": "execute_result"
    }
   ],
   "source": [
    "df2.columns"
   ]
  },
  {
   "cell_type": "code",
   "execution_count": 10,
   "id": "5b57e49c",
   "metadata": {},
   "outputs": [
    {
     "data": {
      "text/plain": [
       "Index(['produto', 'categoria', 'descricao', 'tipos', 'label', 'subcategoria',\n",
       "       'marca', 'fabricante'],\n",
       "      dtype='object')"
      ]
     },
     "execution_count": 10,
     "metadata": {},
     "output_type": "execute_result"
    }
   ],
   "source": [
    "df3.columns"
   ]
  },
  {
   "cell_type": "code",
   "execution_count": 11,
   "id": "fb8a821a",
   "metadata": {},
   "outputs": [
    {
     "data": {
      "text/html": [
       "<div>\n",
       "<style scoped>\n",
       "    .dataframe tbody tr th:only-of-type {\n",
       "        vertical-align: middle;\n",
       "    }\n",
       "\n",
       "    .dataframe tbody tr th {\n",
       "        vertical-align: top;\n",
       "    }\n",
       "\n",
       "    .dataframe thead th {\n",
       "        text-align: right;\n",
       "    }\n",
       "</style>\n",
       "<table border=\"1\" class=\"dataframe\">\n",
       "  <thead>\n",
       "    <tr style=\"text-align: right;\">\n",
       "      <th></th>\n",
       "      <th>pdv</th>\n",
       "      <th>premise</th>\n",
       "      <th>categoria_pdv</th>\n",
       "      <th>zipcode</th>\n",
       "    </tr>\n",
       "  </thead>\n",
       "  <tbody>\n",
       "    <tr>\n",
       "      <th>0</th>\n",
       "      <td>2204965430669363375</td>\n",
       "      <td>On Premise</td>\n",
       "      <td>Mexican Rest</td>\n",
       "      <td>30741</td>\n",
       "    </tr>\n",
       "    <tr>\n",
       "      <th>1</th>\n",
       "      <td>5211957289528622910</td>\n",
       "      <td>On Premise</td>\n",
       "      <td>Hotel/Motel</td>\n",
       "      <td>80011</td>\n",
       "    </tr>\n",
       "    <tr>\n",
       "      <th>2</th>\n",
       "      <td>9024493554530757353</td>\n",
       "      <td>Off Premise</td>\n",
       "      <td>Convenience</td>\n",
       "      <td>80751</td>\n",
       "    </tr>\n",
       "    <tr>\n",
       "      <th>3</th>\n",
       "      <td>8659197371382902429</td>\n",
       "      <td>On Premise</td>\n",
       "      <td>Restaurant</td>\n",
       "      <td>80439</td>\n",
       "    </tr>\n",
       "    <tr>\n",
       "      <th>4</th>\n",
       "      <td>1400854873763881130</td>\n",
       "      <td>On Premise</td>\n",
       "      <td>Restaurant</td>\n",
       "      <td>30093</td>\n",
       "    </tr>\n",
       "  </tbody>\n",
       "</table>\n",
       "</div>"
      ],
      "text/plain": [
       "                   pdv      premise categoria_pdv  zipcode\n",
       "0  2204965430669363375   On Premise  Mexican Rest    30741\n",
       "1  5211957289528622910   On Premise   Hotel/Motel    80011\n",
       "2  9024493554530757353  Off Premise   Convenience    80751\n",
       "3  8659197371382902429   On Premise    Restaurant    80439\n",
       "4  1400854873763881130   On Premise    Restaurant    30093"
      ]
     },
     "execution_count": 11,
     "metadata": {},
     "output_type": "execute_result"
    }
   ],
   "source": [
    "df.head()"
   ]
  },
  {
   "cell_type": "code",
   "execution_count": 12,
   "id": "8c37a719",
   "metadata": {},
   "outputs": [
    {
     "data": {
      "text/plain": [
       "(14419,)"
      ]
     },
     "execution_count": 12,
     "metadata": {},
     "output_type": "execute_result"
    }
   ],
   "source": [
    "df.pdv.unique().shape # Número de PDVs únicos"
   ]
  },
  {
   "cell_type": "code",
   "execution_count": 17,
   "id": "6244e534",
   "metadata": {},
   "outputs": [
    {
     "data": {
      "text/plain": [
       "(788,)"
      ]
     },
     "execution_count": 17,
     "metadata": {},
     "output_type": "execute_result"
    }
   ],
   "source": [
    "df.zipcode.unique().shape # Número de Zipcodes únicos"
   ]
  },
  {
   "cell_type": "code",
   "execution_count": 13,
   "id": "c716cd33",
   "metadata": {},
   "outputs": [
    {
     "data": {
      "text/plain": [
       "premise\n",
       "On Premise     8216\n",
       "Off Premise    6203\n",
       "Name: count, dtype: int64"
      ]
     },
     "execution_count": 13,
     "metadata": {},
     "output_type": "execute_result"
    }
   ],
   "source": [
    "df.premise.value_counts()"
   ]
  },
  {
   "cell_type": "code",
   "execution_count": 15,
   "id": "443818b3",
   "metadata": {},
   "outputs": [
    {
     "data": {
      "text/plain": [
       "categoria_pdv\n",
       "Restaurant                   3316\n",
       "Convenience                  2849\n",
       "Package/Liquor               2153\n",
       "Bar                          1444\n",
       "Grocery                       697\n",
       "Mexican Rest                  623\n",
       "Other On Premise              473\n",
       "Hotel/Motel                   359\n",
       "Asian                         263\n",
       "Pizza                         187\n",
       "Super Center                  181\n",
       "Golf - Public                 168\n",
       "Drug                          167\n",
       "Italian                       144\n",
       "Service Org                   138\n",
       "Special Event                 137\n",
       "Golf - Private                113\n",
       "Billiard/Bowling               91\n",
       "Sports/Rec Club                88\n",
       "Stadium/Concession             79\n",
       "Barbeque                       76\n",
       "Theatre                        75\n",
       "Club Store                     65\n",
       "Banquet/Caterer                55\n",
       "Night Club                     52\n",
       "Irish                          46\n",
       "Church                         43\n",
       "Sample Room                    35\n",
       "Music Venue                    33\n",
       "Coffee House                   33\n",
       "Other Off Premise              32\n",
       "Airline/Airport                20\n",
       "Bodega                         19\n",
       "Korean                         18\n",
       "Adult Entertainment            17\n",
       "All Other N/A Off Premise      16\n",
       "All Other N/A On Premise       16\n",
       "Gay Bar                        16\n",
       "Military                       11\n",
       "French                         11\n",
       "Winery                          9\n",
       "Gym/Fitness                     8\n",
       "Theme Park                      7\n",
       "Sub Distributor                 6\n",
       "Health Club                     5\n",
       "German                          4\n",
       "Salon/Spa/Tann                  4\n",
       "Non-Traditional                 3\n",
       "Race Track                      3\n",
       "Marina / Lake                   3\n",
       "Neighborhood Store              3\n",
       "Country/Western                 3\n",
       "Casino                          1\n",
       "Mass Merch                      1\n",
       "Name: count, dtype: int64"
      ]
     },
     "execution_count": 15,
     "metadata": {},
     "output_type": "execute_result"
    }
   ],
   "source": [
    "df.categoria_pdv.value_counts()"
   ]
  },
  {
   "cell_type": "code",
   "execution_count": null,
   "id": "e73e554d",
   "metadata": {},
   "outputs": [],
   "source": []
  }
 ],
 "metadata": {
  "kernelspec": {
   "display_name": "hackathon-big-data-2025",
   "language": "python",
   "name": "python3"
  },
  "language_info": {
   "codemirror_mode": {
    "name": "ipython",
    "version": 3
   },
   "file_extension": ".py",
   "mimetype": "text/x-python",
   "name": "python",
   "nbconvert_exporter": "python",
   "pygments_lexer": "ipython3",
   "version": "3.11.5"
  }
 },
 "nbformat": 4,
 "nbformat_minor": 5
}
