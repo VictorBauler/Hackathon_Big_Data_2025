{
 "cells": [
  {
   "cell_type": "code",
   "execution_count": 1,
   "id": "55c2d151",
   "metadata": {},
   "outputs": [],
   "source": [
    "import pandas as pd\n",
    "\n",
    "pre_separated_data = True"
   ]
  },
  {
   "cell_type": "code",
   "execution_count": 2,
   "id": "7b9a4047",
   "metadata": {},
   "outputs": [],
   "source": [
    "df1_path = \"/data/challenges/hackathon_bigdata_2025/raw_data/part-00000-tid-2779033056155408584-f6316110-4c9a-4061-ae48-69b77c7c8c36-4-1-c000.snappy.parquet\"\n",
    "df2_path = \"/data/challenges/hackathon_bigdata_2025/raw_data/part-00000-tid-5196563791502273604-c90d3a24-52f2-4955-b4ec-fb143aae74d8-4-1-c000.snappy.parquet\"\n",
    "df3_path = \"/data/challenges/hackathon_bigdata_2025/raw_data/part-00000-tid-6364321654468257203-dc13a5d6-36ae-48c6-a018-37d8cfe34cf6-263-1-c000.snappy.parquet\""
   ]
  },
  {
   "cell_type": "code",
   "execution_count": 3,
   "id": "a967b1eb",
   "metadata": {},
   "outputs": [],
   "source": [
    "df = pd.read_parquet(df1_path)\n",
    "df2 = pd.read_parquet(df2_path)\n",
    "\n",
    "# Df3 é bem pesado (vai lotar a memoria, acho que precisamos usar o polars aqui)\n",
    "#df3 = pd.read_parquet(\"/data/challenges/hackathon_bigdata_2025/raw_data/part-00000-tid-6364321654468257203-dc13a5d6-36ae-48c6-a018-37d8cfe34cf6-263-1-c000.snappy.parquet\")"
   ]
  },
  {
   "cell_type": "code",
   "execution_count": 4,
   "id": "7afe60da",
   "metadata": {},
   "outputs": [],
   "source": [
    "if not pre_separated_data:\n",
    "    import polars as pl\n",
    "\n",
    "    df3 = pl.read_parquet(df3_path)\n",
    "    print(df3.shape)\n",
    "\n",
    "    total_rows = df3.shape[0]\n",
    "    chunk_size = total_rows // 10  # Integer division to get the chunk size\n",
    "\n",
    "    for i in range(10):\n",
    "        start_index = i * chunk_size\n",
    "        end_index = start_index + chunk_size\n",
    "        \n",
    "        if i == 9:\n",
    "            chunk = df3.slice(start_index)\n",
    "        else:\n",
    "            chunk = df3.slice(start_index, chunk_size)\n",
    "\n",
    "        output_filename = df3_path.strip(\".snappy.parquet\") + f\"_part_{i+1}.parquet\"\n",
    "        \n",
    "        chunk.write_parquet(output_filename)\n",
    "        print(f\"Written {output_filename}\")"
   ]
  },
  {
   "cell_type": "code",
   "execution_count": 5,
   "id": "9212ccc1",
   "metadata": {},
   "outputs": [],
   "source": [
    "if pre_separated_data:\n",
    "    all_dfs = []\n",
    "    for i in range(10):\n",
    "        df3 = pd.read_parquet(df3_path.strip(\".snappy.parquet\") + f\"_part_{i+1}.parquet\")\n",
    "        all_dfs.append(df3)\n",
    "    df3 = pd.concat(all_dfs, ignore_index=True)\n",
    "    del all_dfs"
   ]
  },
  {
   "cell_type": "code",
   "execution_count": 6,
   "id": "d5a89679",
   "metadata": {},
   "outputs": [
    {
     "data": {
      "text/html": [
       "<div>\n",
       "<style scoped>\n",
       "    .dataframe tbody tr th:only-of-type {\n",
       "        vertical-align: middle;\n",
       "    }\n",
       "\n",
       "    .dataframe tbody tr th {\n",
       "        vertical-align: top;\n",
       "    }\n",
       "\n",
       "    .dataframe thead th {\n",
       "        text-align: right;\n",
       "    }\n",
       "</style>\n",
       "<table border=\"1\" class=\"dataframe\">\n",
       "  <thead>\n",
       "    <tr style=\"text-align: right;\">\n",
       "      <th></th>\n",
       "      <th>produto</th>\n",
       "      <th>categoria</th>\n",
       "      <th>descricao</th>\n",
       "      <th>tipos</th>\n",
       "      <th>label</th>\n",
       "      <th>subcategoria</th>\n",
       "      <th>marca</th>\n",
       "      <th>fabricante</th>\n",
       "    </tr>\n",
       "  </thead>\n",
       "  <tbody>\n",
       "    <tr>\n",
       "      <th>0</th>\n",
       "      <td>69753381296344216</td>\n",
       "      <td>Package</td>\n",
       "      <td>MONDAY NIGHT BREW DON'T CALL IT HOTLANTA 6/4/1...</td>\n",
       "      <td>Package</td>\n",
       "      <td>In&amp;Out</td>\n",
       "      <td>Red Wine</td>\n",
       "      <td>Monday Night Don't Call It Hotlanta</td>\n",
       "      <td>Monday Night Brewing</td>\n",
       "    </tr>\n",
       "    <tr>\n",
       "      <th>1</th>\n",
       "      <td>5019314249828979377</td>\n",
       "      <td>Distilled Spirits</td>\n",
       "      <td>BARRELL V907 RED PHONE BOOTH &amp; TOWER</td>\n",
       "      <td>Distilled Spirits</td>\n",
       "      <td>Specialty</td>\n",
       "      <td>Lager / Pilsner</td>\n",
       "      <td>Barrell Bourbon- Private Label</td>\n",
       "      <td>Barrell Craft Spirits</td>\n",
       "    </tr>\n",
       "    <tr>\n",
       "      <th>2</th>\n",
       "      <td>4016404282141162328</td>\n",
       "      <td>Distilled Spirits</td>\n",
       "      <td>DRINKWORKS SIMPLY REFRESHING GIN &amp; TONIC 12/4/...</td>\n",
       "      <td>Distilled Spirits</td>\n",
       "      <td>Core</td>\n",
       "      <td>Lager</td>\n",
       "      <td>Drinkworks Simply Refreshing Gin &amp; Tonic</td>\n",
       "      <td>AB Drinkworks</td>\n",
       "    </tr>\n",
       "    <tr>\n",
       "      <th>3</th>\n",
       "      <td>6217366559810422145</td>\n",
       "      <td>Distilled Spirits</td>\n",
       "      <td>CENZON REPOSADO 100% AGAVE 6/750ML 80PF</td>\n",
       "      <td>Distilled Spirits</td>\n",
       "      <td>None</td>\n",
       "      <td>Lager</td>\n",
       "      <td>Cenzon Reposado 100% Agave Tequila</td>\n",
       "      <td>Sazerac Spirits</td>\n",
       "    </tr>\n",
       "    <tr>\n",
       "      <th>4</th>\n",
       "      <td>7356488787409434558</td>\n",
       "      <td>Draft</td>\n",
       "      <td>REFORMATION STARK 1/4 KEG</td>\n",
       "      <td>Draft</td>\n",
       "      <td>Core</td>\n",
       "      <td>Red Wine</td>\n",
       "      <td>Reformation Stark</td>\n",
       "      <td>Reformation Brewery</td>\n",
       "    </tr>\n",
       "    <tr>\n",
       "      <th>...</th>\n",
       "      <td>...</td>\n",
       "      <td>...</td>\n",
       "      <td>...</td>\n",
       "      <td>...</td>\n",
       "      <td>...</td>\n",
       "      <td>...</td>\n",
       "      <td>...</td>\n",
       "      <td>...</td>\n",
       "    </tr>\n",
       "    <tr>\n",
       "      <th>192356311</th>\n",
       "      <td>2910976334046702887</td>\n",
       "      <td>ABA Spirits</td>\n",
       "      <td>SAZERAC OLD WESTBURY GIN WNBS 1LTR 42PRF</td>\n",
       "      <td>Wine &gt; 14 %</td>\n",
       "      <td>Core</td>\n",
       "      <td>Lager</td>\n",
       "      <td>Old Westbury Extra Dry Gin</td>\n",
       "      <td>Sazerac ABA</td>\n",
       "    </tr>\n",
       "    <tr>\n",
       "      <th>192356312</th>\n",
       "      <td>997545005038320324</td>\n",
       "      <td>Package</td>\n",
       "      <td>TX RANCH WATER LIME 4/6 CN</td>\n",
       "      <td>Package</td>\n",
       "      <td>Core</td>\n",
       "      <td>Soda</td>\n",
       "      <td>TX Ranch Water Lime</td>\n",
       "      <td>MPL Brands NV/Patco</td>\n",
       "    </tr>\n",
       "    <tr>\n",
       "      <th>192356313</th>\n",
       "      <td>5342092316314076162</td>\n",
       "      <td>Draft</td>\n",
       "      <td>TANTRUM POEMS AT MIDNIGHT RASPBERRY BLACKBERRY...</td>\n",
       "      <td>Draft</td>\n",
       "      <td>Discontinued</td>\n",
       "      <td>Energy</td>\n",
       "      <td>Tantrum Poems at Midnight Raspberry Blackberry</td>\n",
       "      <td>Tantrum Brewing Co</td>\n",
       "    </tr>\n",
       "    <tr>\n",
       "      <th>192356314</th>\n",
       "      <td>8663495453589323322</td>\n",
       "      <td>Wine</td>\n",
       "      <td>SALVESTRIN RETTAGIO 2019</td>\n",
       "      <td>Wine &gt; 14 %</td>\n",
       "      <td>Close Out</td>\n",
       "      <td>Lager</td>\n",
       "      <td>Salvestrin Rettagio</td>\n",
       "      <td>Salvestrin Wine Company</td>\n",
       "    </tr>\n",
       "    <tr>\n",
       "      <th>192356315</th>\n",
       "      <td>1933905639949913855</td>\n",
       "      <td>Distilled Spirits</td>\n",
       "      <td>STROUDWATER RYE</td>\n",
       "      <td>Distilled Spirits</td>\n",
       "      <td>Close Out</td>\n",
       "      <td>Lager</td>\n",
       "      <td>Stroudwater Rye</td>\n",
       "      <td>Northstar Brands</td>\n",
       "    </tr>\n",
       "  </tbody>\n",
       "</table>\n",
       "<p>192356316 rows × 8 columns</p>\n",
       "</div>"
      ],
      "text/plain": [
       "                       produto          categoria  \\\n",
       "0            69753381296344216            Package   \n",
       "1          5019314249828979377  Distilled Spirits   \n",
       "2          4016404282141162328  Distilled Spirits   \n",
       "3          6217366559810422145  Distilled Spirits   \n",
       "4          7356488787409434558              Draft   \n",
       "...                        ...                ...   \n",
       "192356311  2910976334046702887        ABA Spirits   \n",
       "192356312   997545005038320324            Package   \n",
       "192356313  5342092316314076162              Draft   \n",
       "192356314  8663495453589323322               Wine   \n",
       "192356315  1933905639949913855  Distilled Spirits   \n",
       "\n",
       "                                                   descricao  \\\n",
       "0          MONDAY NIGHT BREW DON'T CALL IT HOTLANTA 6/4/1...   \n",
       "1                       BARRELL V907 RED PHONE BOOTH & TOWER   \n",
       "2          DRINKWORKS SIMPLY REFRESHING GIN & TONIC 12/4/...   \n",
       "3                    CENZON REPOSADO 100% AGAVE 6/750ML 80PF   \n",
       "4                                  REFORMATION STARK 1/4 KEG   \n",
       "...                                                      ...   \n",
       "192356311           SAZERAC OLD WESTBURY GIN WNBS 1LTR 42PRF   \n",
       "192356312                         TX RANCH WATER LIME 4/6 CN   \n",
       "192356313  TANTRUM POEMS AT MIDNIGHT RASPBERRY BLACKBERRY...   \n",
       "192356314                           SALVESTRIN RETTAGIO 2019   \n",
       "192356315                                    STROUDWATER RYE   \n",
       "\n",
       "                       tipos         label     subcategoria  \\\n",
       "0                    Package        In&Out         Red Wine   \n",
       "1          Distilled Spirits     Specialty  Lager / Pilsner   \n",
       "2          Distilled Spirits          Core            Lager   \n",
       "3          Distilled Spirits          None            Lager   \n",
       "4                      Draft          Core         Red Wine   \n",
       "...                      ...           ...              ...   \n",
       "192356311        Wine > 14 %          Core            Lager   \n",
       "192356312            Package          Core             Soda   \n",
       "192356313              Draft  Discontinued           Energy   \n",
       "192356314        Wine > 14 %     Close Out            Lager   \n",
       "192356315  Distilled Spirits     Close Out            Lager   \n",
       "\n",
       "                                                    marca  \\\n",
       "0                     Monday Night Don't Call It Hotlanta   \n",
       "1                          Barrell Bourbon- Private Label   \n",
       "2                Drinkworks Simply Refreshing Gin & Tonic   \n",
       "3                      Cenzon Reposado 100% Agave Tequila   \n",
       "4                                       Reformation Stark   \n",
       "...                                                   ...   \n",
       "192356311                      Old Westbury Extra Dry Gin   \n",
       "192356312                             TX Ranch Water Lime   \n",
       "192356313  Tantrum Poems at Midnight Raspberry Blackberry   \n",
       "192356314                             Salvestrin Rettagio   \n",
       "192356315                                 Stroudwater Rye   \n",
       "\n",
       "                        fabricante  \n",
       "0             Monday Night Brewing  \n",
       "1            Barrell Craft Spirits  \n",
       "2                    AB Drinkworks  \n",
       "3                  Sazerac Spirits  \n",
       "4              Reformation Brewery  \n",
       "...                            ...  \n",
       "192356311              Sazerac ABA  \n",
       "192356312      MPL Brands NV/Patco  \n",
       "192356313       Tantrum Brewing Co  \n",
       "192356314  Salvestrin Wine Company  \n",
       "192356315         Northstar Brands  \n",
       "\n",
       "[192356316 rows x 8 columns]"
      ]
     },
     "execution_count": 6,
     "metadata": {},
     "output_type": "execute_result"
    }
   ],
   "source": [
    "df3"
   ]
  },
  {
   "cell_type": "code",
   "execution_count": 7,
   "id": "00ee2db5",
   "metadata": {},
   "outputs": [
    {
     "data": {
      "text/plain": [
       "Index(['pdv', 'premise', 'categoria_pdv', 'zipcode'], dtype='object')"
      ]
     },
     "execution_count": 7,
     "metadata": {},
     "output_type": "execute_result"
    }
   ],
   "source": [
    "df.columns"
   ]
  },
  {
   "cell_type": "code",
   "execution_count": 8,
   "id": "d987134e",
   "metadata": {},
   "outputs": [
    {
     "data": {
      "text/plain": [
       "Index(['internal_store_id', 'internal_product_id', 'distributor_id',\n",
       "       'transaction_date', 'reference_date', 'quantity', 'gross_value',\n",
       "       'net_value', 'gross_profit', 'discount', 'taxes'],\n",
       "      dtype='object')"
      ]
     },
     "execution_count": 8,
     "metadata": {},
     "output_type": "execute_result"
    }
   ],
   "source": [
    "df2.columns"
   ]
  },
  {
   "cell_type": "code",
   "execution_count": 10,
   "id": "5b57e49c",
   "metadata": {},
   "outputs": [
    {
     "data": {
      "text/plain": [
       "Index(['produto', 'categoria', 'descricao', 'tipos', 'label', 'subcategoria',\n",
       "       'marca', 'fabricante'],\n",
       "      dtype='object')"
      ]
     },
     "execution_count": 10,
     "metadata": {},
     "output_type": "execute_result"
    }
   ],
   "source": [
    "df3.columns"
   ]
  },
  {
   "cell_type": "code",
   "execution_count": 11,
   "id": "fb8a821a",
   "metadata": {},
   "outputs": [
    {
     "data": {
      "text/html": [
       "<div>\n",
       "<style scoped>\n",
       "    .dataframe tbody tr th:only-of-type {\n",
       "        vertical-align: middle;\n",
       "    }\n",
       "\n",
       "    .dataframe tbody tr th {\n",
       "        vertical-align: top;\n",
       "    }\n",
       "\n",
       "    .dataframe thead th {\n",
       "        text-align: right;\n",
       "    }\n",
       "</style>\n",
       "<table border=\"1\" class=\"dataframe\">\n",
       "  <thead>\n",
       "    <tr style=\"text-align: right;\">\n",
       "      <th></th>\n",
       "      <th>pdv</th>\n",
       "      <th>premise</th>\n",
       "      <th>categoria_pdv</th>\n",
       "      <th>zipcode</th>\n",
       "    </tr>\n",
       "  </thead>\n",
       "  <tbody>\n",
       "    <tr>\n",
       "      <th>0</th>\n",
       "      <td>2204965430669363375</td>\n",
       "      <td>On Premise</td>\n",
       "      <td>Mexican Rest</td>\n",
       "      <td>30741</td>\n",
       "    </tr>\n",
       "    <tr>\n",
       "      <th>1</th>\n",
       "      <td>5211957289528622910</td>\n",
       "      <td>On Premise</td>\n",
       "      <td>Hotel/Motel</td>\n",
       "      <td>80011</td>\n",
       "    </tr>\n",
       "    <tr>\n",
       "      <th>2</th>\n",
       "      <td>9024493554530757353</td>\n",
       "      <td>Off Premise</td>\n",
       "      <td>Convenience</td>\n",
       "      <td>80751</td>\n",
       "    </tr>\n",
       "    <tr>\n",
       "      <th>3</th>\n",
       "      <td>8659197371382902429</td>\n",
       "      <td>On Premise</td>\n",
       "      <td>Restaurant</td>\n",
       "      <td>80439</td>\n",
       "    </tr>\n",
       "    <tr>\n",
       "      <th>4</th>\n",
       "      <td>1400854873763881130</td>\n",
       "      <td>On Premise</td>\n",
       "      <td>Restaurant</td>\n",
       "      <td>30093</td>\n",
       "    </tr>\n",
       "  </tbody>\n",
       "</table>\n",
       "</div>"
      ],
      "text/plain": [
       "                   pdv      premise categoria_pdv  zipcode\n",
       "0  2204965430669363375   On Premise  Mexican Rest    30741\n",
       "1  5211957289528622910   On Premise   Hotel/Motel    80011\n",
       "2  9024493554530757353  Off Premise   Convenience    80751\n",
       "3  8659197371382902429   On Premise    Restaurant    80439\n",
       "4  1400854873763881130   On Premise    Restaurant    30093"
      ]
     },
     "execution_count": 11,
     "metadata": {},
     "output_type": "execute_result"
    }
   ],
   "source": [
    "df.head()"
   ]
  },
  {
   "cell_type": "code",
   "execution_count": 12,
   "id": "8c37a719",
   "metadata": {},
   "outputs": [
    {
     "data": {
      "text/plain": [
       "(14419,)"
      ]
     },
     "execution_count": 12,
     "metadata": {},
     "output_type": "execute_result"
    }
   ],
   "source": [
    "df.pdv.unique().shape # Número de PDVs únicos"
   ]
  },
  {
   "cell_type": "code",
   "execution_count": 17,
   "id": "6244e534",
   "metadata": {},
   "outputs": [
    {
     "data": {
      "text/plain": [
       "(788,)"
      ]
     },
     "execution_count": 17,
     "metadata": {},
     "output_type": "execute_result"
    }
   ],
   "source": [
    "df.zipcode.unique().shape # Número de Zipcodes únicos"
   ]
  },
  {
   "cell_type": "code",
   "execution_count": 13,
   "id": "c716cd33",
   "metadata": {},
   "outputs": [
    {
     "data": {
      "text/plain": [
       "premise\n",
       "On Premise     8216\n",
       "Off Premise    6203\n",
       "Name: count, dtype: int64"
      ]
     },
     "execution_count": 13,
     "metadata": {},
     "output_type": "execute_result"
    }
   ],
   "source": [
    "df.premise.value_counts()"
   ]
  },
  {
   "cell_type": "code",
   "execution_count": 15,
   "id": "443818b3",
   "metadata": {},
   "outputs": [
    {
     "data": {
      "text/plain": [
       "categoria_pdv\n",
       "Restaurant                   3316\n",
       "Convenience                  2849\n",
       "Package/Liquor               2153\n",
       "Bar                          1444\n",
       "Grocery                       697\n",
       "Mexican Rest                  623\n",
       "Other On Premise              473\n",
       "Hotel/Motel                   359\n",
       "Asian                         263\n",
       "Pizza                         187\n",
       "Super Center                  181\n",
       "Golf - Public                 168\n",
       "Drug                          167\n",
       "Italian                       144\n",
       "Service Org                   138\n",
       "Special Event                 137\n",
       "Golf - Private                113\n",
       "Billiard/Bowling               91\n",
       "Sports/Rec Club                88\n",
       "Stadium/Concession             79\n",
       "Barbeque                       76\n",
       "Theatre                        75\n",
       "Club Store                     65\n",
       "Banquet/Caterer                55\n",
       "Night Club                     52\n",
       "Irish                          46\n",
       "Church                         43\n",
       "Sample Room                    35\n",
       "Music Venue                    33\n",
       "Coffee House                   33\n",
       "Other Off Premise              32\n",
       "Airline/Airport                20\n",
       "Bodega                         19\n",
       "Korean                         18\n",
       "Adult Entertainment            17\n",
       "All Other N/A Off Premise      16\n",
       "All Other N/A On Premise       16\n",
       "Gay Bar                        16\n",
       "Military                       11\n",
       "French                         11\n",
       "Winery                          9\n",
       "Gym/Fitness                     8\n",
       "Theme Park                      7\n",
       "Sub Distributor                 6\n",
       "Health Club                     5\n",
       "German                          4\n",
       "Salon/Spa/Tann                  4\n",
       "Non-Traditional                 3\n",
       "Race Track                      3\n",
       "Marina / Lake                   3\n",
       "Neighborhood Store              3\n",
       "Country/Western                 3\n",
       "Casino                          1\n",
       "Mass Merch                      1\n",
       "Name: count, dtype: int64"
      ]
     },
     "execution_count": 15,
     "metadata": {},
     "output_type": "execute_result"
    }
   ],
   "source": [
    "df.categoria_pdv.value_counts()"
   ]
  },
  {
   "cell_type": "code",
   "execution_count": 19,
   "id": "e73e554d",
   "metadata": {},
   "outputs": [
    {
     "data": {
      "text/html": [
       "<div>\n",
       "<style scoped>\n",
       "    .dataframe tbody tr th:only-of-type {\n",
       "        vertical-align: middle;\n",
       "    }\n",
       "\n",
       "    .dataframe tbody tr th {\n",
       "        vertical-align: top;\n",
       "    }\n",
       "\n",
       "    .dataframe thead th {\n",
       "        text-align: right;\n",
       "    }\n",
       "</style>\n",
       "<table border=\"1\" class=\"dataframe\">\n",
       "  <thead>\n",
       "    <tr style=\"text-align: right;\">\n",
       "      <th></th>\n",
       "      <th>internal_store_id</th>\n",
       "      <th>internal_product_id</th>\n",
       "      <th>distributor_id</th>\n",
       "      <th>transaction_date</th>\n",
       "      <th>reference_date</th>\n",
       "      <th>quantity</th>\n",
       "      <th>gross_value</th>\n",
       "      <th>net_value</th>\n",
       "      <th>gross_profit</th>\n",
       "      <th>discount</th>\n",
       "      <th>taxes</th>\n",
       "    </tr>\n",
       "  </thead>\n",
       "  <tbody>\n",
       "    <tr>\n",
       "      <th>0</th>\n",
       "      <td>7384367747233276219</td>\n",
       "      <td>328903483604537190</td>\n",
       "      <td>9</td>\n",
       "      <td>2022-07-13</td>\n",
       "      <td>2022-07-01</td>\n",
       "      <td>1.0</td>\n",
       "      <td>38.125000</td>\n",
       "      <td>37.890625</td>\n",
       "      <td>10.042625</td>\n",
       "      <td>3.950000</td>\n",
       "      <td>0.234375</td>\n",
       "    </tr>\n",
       "    <tr>\n",
       "      <th>1</th>\n",
       "      <td>3536908514005606262</td>\n",
       "      <td>5418855670645487653</td>\n",
       "      <td>5</td>\n",
       "      <td>2022-03-21</td>\n",
       "      <td>2022-03-01</td>\n",
       "      <td>6.0</td>\n",
       "      <td>107.250000</td>\n",
       "      <td>106.440002</td>\n",
       "      <td>24.732002</td>\n",
       "      <td>17.100000</td>\n",
       "      <td>0.810000</td>\n",
       "    </tr>\n",
       "    <tr>\n",
       "      <th>2</th>\n",
       "      <td>3138231730993449825</td>\n",
       "      <td>1087005562675741887</td>\n",
       "      <td>6</td>\n",
       "      <td>2022-09-06</td>\n",
       "      <td>2022-09-01</td>\n",
       "      <td>3.0</td>\n",
       "      <td>56.625000</td>\n",
       "      <td>56.220001</td>\n",
       "      <td>14.124002</td>\n",
       "      <td>5.250000</td>\n",
       "      <td>0.405000</td>\n",
       "    </tr>\n",
       "    <tr>\n",
       "      <th>3</th>\n",
       "      <td>3681167389484217654</td>\n",
       "      <td>1401422983880045188</td>\n",
       "      <td>5</td>\n",
       "      <td>2022-09-11</td>\n",
       "      <td>2022-09-01</td>\n",
       "      <td>129.0</td>\n",
       "      <td>1037.160023</td>\n",
       "      <td>1037.160023</td>\n",
       "      <td>156.348026</td>\n",
       "      <td>479.880006</td>\n",
       "      <td>0.000000</td>\n",
       "    </tr>\n",
       "    <tr>\n",
       "      <th>4</th>\n",
       "      <td>7762413312337359369</td>\n",
       "      <td>6614994347738381720</td>\n",
       "      <td>4</td>\n",
       "      <td>2022-02-18</td>\n",
       "      <td>2022-02-01</td>\n",
       "      <td>1.0</td>\n",
       "      <td>26.230000</td>\n",
       "      <td>23.950241</td>\n",
       "      <td>6.550241</td>\n",
       "      <td>0.000000</td>\n",
       "      <td>2.279758</td>\n",
       "    </tr>\n",
       "  </tbody>\n",
       "</table>\n",
       "</div>"
      ],
      "text/plain": [
       "     internal_store_id  internal_product_id distributor_id transaction_date  \\\n",
       "0  7384367747233276219   328903483604537190              9       2022-07-13   \n",
       "1  3536908514005606262  5418855670645487653              5       2022-03-21   \n",
       "2  3138231730993449825  1087005562675741887              6       2022-09-06   \n",
       "3  3681167389484217654  1401422983880045188              5       2022-09-11   \n",
       "4  7762413312337359369  6614994347738381720              4       2022-02-18   \n",
       "\n",
       "  reference_date  quantity  gross_value    net_value  gross_profit  \\\n",
       "0     2022-07-01       1.0    38.125000    37.890625     10.042625   \n",
       "1     2022-03-01       6.0   107.250000   106.440002     24.732002   \n",
       "2     2022-09-01       3.0    56.625000    56.220001     14.124002   \n",
       "3     2022-09-01     129.0  1037.160023  1037.160023    156.348026   \n",
       "4     2022-02-01       1.0    26.230000    23.950241      6.550241   \n",
       "\n",
       "     discount     taxes  \n",
       "0    3.950000  0.234375  \n",
       "1   17.100000  0.810000  \n",
       "2    5.250000  0.405000  \n",
       "3  479.880006  0.000000  \n",
       "4    0.000000  2.279758  "
      ]
     },
     "execution_count": 19,
     "metadata": {},
     "output_type": "execute_result"
    }
   ],
   "source": [
    "df2.head()"
   ]
  },
  {
   "cell_type": "code",
   "execution_count": 22,
   "id": "0ec1258c",
   "metadata": {},
   "outputs": [
    {
     "data": {
      "text/plain": [
       "((14419, 4), (6560698, 11))"
      ]
     },
     "execution_count": 22,
     "metadata": {},
     "output_type": "execute_result"
    }
   ],
   "source": [
    "df.shape, df2.shape"
   ]
  },
  {
   "cell_type": "code",
   "execution_count": 26,
   "id": "d93e898e",
   "metadata": {},
   "outputs": [],
   "source": [
    "df2 = df2.merge(df, how=\"inner\", left_on=\"internal_store_id\", right_on=\"pdv\")"
   ]
  },
  {
   "cell_type": "code",
   "execution_count": 27,
   "id": "4e082746",
   "metadata": {},
   "outputs": [
    {
     "data": {
      "text/plain": [
       "internal_store_id      0\n",
       "internal_product_id    0\n",
       "distributor_id         0\n",
       "transaction_date       0\n",
       "reference_date         0\n",
       "quantity               0\n",
       "gross_value            0\n",
       "net_value              0\n",
       "gross_profit           0\n",
       "discount               0\n",
       "taxes                  0\n",
       "pdv_x                  0\n",
       "premise_x              0\n",
       "categoria_pdv_x        0\n",
       "zipcode_x              0\n",
       "pdv_y                  0\n",
       "premise_y              0\n",
       "categoria_pdv_y        0\n",
       "zipcode_y              0\n",
       "dtype: int64"
      ]
     },
     "execution_count": 27,
     "metadata": {},
     "output_type": "execute_result"
    }
   ],
   "source": [
    "df2.isna().sum()"
   ]
  },
  {
   "cell_type": "code",
   "execution_count": 29,
   "id": "fdcb2c83",
   "metadata": {},
   "outputs": [
    {
     "data": {
      "text/plain": [
       "(np.int64(0), (6515116, 19))"
      ]
     },
     "execution_count": 29,
     "metadata": {},
     "output_type": "execute_result"
    }
   ],
   "source": [
    "df2.duplicated().sum(), df2.shape"
   ]
  },
  {
   "cell_type": "code",
   "execution_count": 33,
   "id": "1845c732",
   "metadata": {},
   "outputs": [
    {
     "ename": "MemoryError",
     "evalue": "Unable to allocate 1.29 TiB for an array with shape (176710087974,) and data type int64",
     "output_type": "error",
     "traceback": [
      "\u001b[31m---------------------------------------------------------------------------\u001b[39m",
      "\u001b[31mMemoryError\u001b[39m                               Traceback (most recent call last)",
      "\u001b[36mCell\u001b[39m\u001b[36m \u001b[39m\u001b[32mIn[33]\u001b[39m\u001b[32m, line 1\u001b[39m\n\u001b[32m----> \u001b[39m\u001b[32m1\u001b[39m \u001b[43mdf3\u001b[49m\u001b[43m.\u001b[49m\u001b[43mmerge\u001b[49m\u001b[43m(\u001b[49m\u001b[43mdf2\u001b[49m\u001b[43m,\u001b[49m\u001b[43m \u001b[49m\u001b[43mhow\u001b[49m\u001b[43m=\u001b[49m\u001b[33;43m\"\u001b[39;49m\u001b[33;43mleft\u001b[39;49m\u001b[33;43m\"\u001b[39;49m\u001b[43m,\u001b[49m\u001b[43m \u001b[49m\u001b[43mleft_on\u001b[49m\u001b[43m=\u001b[49m\u001b[33;43m\"\u001b[39;49m\u001b[33;43mproduto\u001b[39;49m\u001b[33;43m\"\u001b[39;49m\u001b[43m,\u001b[49m\u001b[43m \u001b[49m\u001b[43mright_on\u001b[49m\u001b[43m=\u001b[49m\u001b[33;43m\"\u001b[39;49m\u001b[33;43minternal_product_id\u001b[39;49m\u001b[33;43m\"\u001b[39;49m\u001b[43m)\u001b[49m\n\u001b[32m      2\u001b[39m \u001b[38;5;66;03m#df2.merge(df3, how=\"inner\", left_on=\"internal_product_id\", right_on=\"produto\").shape\u001b[39;00m\n",
      "\u001b[36mFile \u001b[39m\u001b[32m~/code/Hackathon_Big_Data_2025/.venv/lib/python3.11/site-packages/pandas/core/frame.py:10839\u001b[39m, in \u001b[36mDataFrame.merge\u001b[39m\u001b[34m(self, right, how, on, left_on, right_on, left_index, right_index, sort, suffixes, copy, indicator, validate)\u001b[39m\n\u001b[32m  10820\u001b[39m \u001b[38;5;129m@Substitution\u001b[39m(\u001b[33m\"\u001b[39m\u001b[33m\"\u001b[39m)\n\u001b[32m  10821\u001b[39m \u001b[38;5;129m@Appender\u001b[39m(_merge_doc, indents=\u001b[32m2\u001b[39m)\n\u001b[32m  10822\u001b[39m \u001b[38;5;28;01mdef\u001b[39;00m\u001b[38;5;250m \u001b[39m\u001b[34mmerge\u001b[39m(\n\u001b[32m   (...)\u001b[39m\u001b[32m  10835\u001b[39m     validate: MergeValidate | \u001b[38;5;28;01mNone\u001b[39;00m = \u001b[38;5;28;01mNone\u001b[39;00m,\n\u001b[32m  10836\u001b[39m ) -> DataFrame:\n\u001b[32m  10837\u001b[39m     \u001b[38;5;28;01mfrom\u001b[39;00m\u001b[38;5;250m \u001b[39m\u001b[34;01mpandas\u001b[39;00m\u001b[34;01m.\u001b[39;00m\u001b[34;01mcore\u001b[39;00m\u001b[34;01m.\u001b[39;00m\u001b[34;01mreshape\u001b[39;00m\u001b[34;01m.\u001b[39;00m\u001b[34;01mmerge\u001b[39;00m\u001b[38;5;250m \u001b[39m\u001b[38;5;28;01mimport\u001b[39;00m merge\n\u001b[32m> \u001b[39m\u001b[32m10839\u001b[39m     \u001b[38;5;28;01mreturn\u001b[39;00m \u001b[43mmerge\u001b[49m\u001b[43m(\u001b[49m\n\u001b[32m  10840\u001b[39m \u001b[43m        \u001b[49m\u001b[38;5;28;43mself\u001b[39;49m\u001b[43m,\u001b[49m\n\u001b[32m  10841\u001b[39m \u001b[43m        \u001b[49m\u001b[43mright\u001b[49m\u001b[43m,\u001b[49m\n\u001b[32m  10842\u001b[39m \u001b[43m        \u001b[49m\u001b[43mhow\u001b[49m\u001b[43m=\u001b[49m\u001b[43mhow\u001b[49m\u001b[43m,\u001b[49m\n\u001b[32m  10843\u001b[39m \u001b[43m        \u001b[49m\u001b[43mon\u001b[49m\u001b[43m=\u001b[49m\u001b[43mon\u001b[49m\u001b[43m,\u001b[49m\n\u001b[32m  10844\u001b[39m \u001b[43m        \u001b[49m\u001b[43mleft_on\u001b[49m\u001b[43m=\u001b[49m\u001b[43mleft_on\u001b[49m\u001b[43m,\u001b[49m\n\u001b[32m  10845\u001b[39m \u001b[43m        \u001b[49m\u001b[43mright_on\u001b[49m\u001b[43m=\u001b[49m\u001b[43mright_on\u001b[49m\u001b[43m,\u001b[49m\n\u001b[32m  10846\u001b[39m \u001b[43m        \u001b[49m\u001b[43mleft_index\u001b[49m\u001b[43m=\u001b[49m\u001b[43mleft_index\u001b[49m\u001b[43m,\u001b[49m\n\u001b[32m  10847\u001b[39m \u001b[43m        \u001b[49m\u001b[43mright_index\u001b[49m\u001b[43m=\u001b[49m\u001b[43mright_index\u001b[49m\u001b[43m,\u001b[49m\n\u001b[32m  10848\u001b[39m \u001b[43m        \u001b[49m\u001b[43msort\u001b[49m\u001b[43m=\u001b[49m\u001b[43msort\u001b[49m\u001b[43m,\u001b[49m\n\u001b[32m  10849\u001b[39m \u001b[43m        \u001b[49m\u001b[43msuffixes\u001b[49m\u001b[43m=\u001b[49m\u001b[43msuffixes\u001b[49m\u001b[43m,\u001b[49m\n\u001b[32m  10850\u001b[39m \u001b[43m        \u001b[49m\u001b[43mcopy\u001b[49m\u001b[43m=\u001b[49m\u001b[43mcopy\u001b[49m\u001b[43m,\u001b[49m\n\u001b[32m  10851\u001b[39m \u001b[43m        \u001b[49m\u001b[43mindicator\u001b[49m\u001b[43m=\u001b[49m\u001b[43mindicator\u001b[49m\u001b[43m,\u001b[49m\n\u001b[32m  10852\u001b[39m \u001b[43m        \u001b[49m\u001b[43mvalidate\u001b[49m\u001b[43m=\u001b[49m\u001b[43mvalidate\u001b[49m\u001b[43m,\u001b[49m\n\u001b[32m  10853\u001b[39m \u001b[43m    \u001b[49m\u001b[43m)\u001b[49m\n",
      "\u001b[36mFile \u001b[39m\u001b[32m~/code/Hackathon_Big_Data_2025/.venv/lib/python3.11/site-packages/pandas/core/reshape/merge.py:184\u001b[39m, in \u001b[36mmerge\u001b[39m\u001b[34m(left, right, how, on, left_on, right_on, left_index, right_index, sort, suffixes, copy, indicator, validate)\u001b[39m\n\u001b[32m    169\u001b[39m \u001b[38;5;28;01melse\u001b[39;00m:\n\u001b[32m    170\u001b[39m     op = _MergeOperation(\n\u001b[32m    171\u001b[39m         left_df,\n\u001b[32m    172\u001b[39m         right_df,\n\u001b[32m   (...)\u001b[39m\u001b[32m    182\u001b[39m         validate=validate,\n\u001b[32m    183\u001b[39m     )\n\u001b[32m--> \u001b[39m\u001b[32m184\u001b[39m     \u001b[38;5;28;01mreturn\u001b[39;00m \u001b[43mop\u001b[49m\u001b[43m.\u001b[49m\u001b[43mget_result\u001b[49m\u001b[43m(\u001b[49m\u001b[43mcopy\u001b[49m\u001b[43m=\u001b[49m\u001b[43mcopy\u001b[49m\u001b[43m)\u001b[49m\n",
      "\u001b[36mFile \u001b[39m\u001b[32m~/code/Hackathon_Big_Data_2025/.venv/lib/python3.11/site-packages/pandas/core/reshape/merge.py:886\u001b[39m, in \u001b[36m_MergeOperation.get_result\u001b[39m\u001b[34m(self, copy)\u001b[39m\n\u001b[32m    883\u001b[39m \u001b[38;5;28;01mif\u001b[39;00m \u001b[38;5;28mself\u001b[39m.indicator:\n\u001b[32m    884\u001b[39m     \u001b[38;5;28mself\u001b[39m.left, \u001b[38;5;28mself\u001b[39m.right = \u001b[38;5;28mself\u001b[39m._indicator_pre_merge(\u001b[38;5;28mself\u001b[39m.left, \u001b[38;5;28mself\u001b[39m.right)\n\u001b[32m--> \u001b[39m\u001b[32m886\u001b[39m join_index, left_indexer, right_indexer = \u001b[38;5;28;43mself\u001b[39;49m\u001b[43m.\u001b[49m\u001b[43m_get_join_info\u001b[49m\u001b[43m(\u001b[49m\u001b[43m)\u001b[49m\n\u001b[32m    888\u001b[39m result = \u001b[38;5;28mself\u001b[39m._reindex_and_concat(\n\u001b[32m    889\u001b[39m     join_index, left_indexer, right_indexer, copy=copy\n\u001b[32m    890\u001b[39m )\n\u001b[32m    891\u001b[39m result = result.__finalize__(\u001b[38;5;28mself\u001b[39m, method=\u001b[38;5;28mself\u001b[39m._merge_type)\n",
      "\u001b[36mFile \u001b[39m\u001b[32m~/code/Hackathon_Big_Data_2025/.venv/lib/python3.11/site-packages/pandas/core/reshape/merge.py:1152\u001b[39m, in \u001b[36m_MergeOperation._get_join_info\u001b[39m\u001b[34m(self)\u001b[39m\n\u001b[32m   1148\u001b[39m     join_index, right_indexer, left_indexer = _left_join_on_index(\n\u001b[32m   1149\u001b[39m         right_ax, left_ax, \u001b[38;5;28mself\u001b[39m.right_join_keys, sort=\u001b[38;5;28mself\u001b[39m.sort\n\u001b[32m   1150\u001b[39m     )\n\u001b[32m   1151\u001b[39m \u001b[38;5;28;01melse\u001b[39;00m:\n\u001b[32m-> \u001b[39m\u001b[32m1152\u001b[39m     (left_indexer, right_indexer) = \u001b[38;5;28;43mself\u001b[39;49m\u001b[43m.\u001b[49m\u001b[43m_get_join_indexers\u001b[49m\u001b[43m(\u001b[49m\u001b[43m)\u001b[49m\n\u001b[32m   1154\u001b[39m     \u001b[38;5;28;01mif\u001b[39;00m \u001b[38;5;28mself\u001b[39m.right_index:\n\u001b[32m   1155\u001b[39m         \u001b[38;5;28;01mif\u001b[39;00m \u001b[38;5;28mlen\u001b[39m(\u001b[38;5;28mself\u001b[39m.left) > \u001b[32m0\u001b[39m:\n",
      "\u001b[36mFile \u001b[39m\u001b[32m~/code/Hackathon_Big_Data_2025/.venv/lib/python3.11/site-packages/pandas/core/reshape/merge.py:1126\u001b[39m, in \u001b[36m_MergeOperation._get_join_indexers\u001b[39m\u001b[34m(self)\u001b[39m\n\u001b[32m   1124\u001b[39m \u001b[38;5;66;03m# make mypy happy\u001b[39;00m\n\u001b[32m   1125\u001b[39m \u001b[38;5;28;01massert\u001b[39;00m \u001b[38;5;28mself\u001b[39m.how != \u001b[33m\"\u001b[39m\u001b[33masof\u001b[39m\u001b[33m\"\u001b[39m\n\u001b[32m-> \u001b[39m\u001b[32m1126\u001b[39m \u001b[38;5;28;01mreturn\u001b[39;00m \u001b[43mget_join_indexers\u001b[49m\u001b[43m(\u001b[49m\n\u001b[32m   1127\u001b[39m \u001b[43m    \u001b[49m\u001b[38;5;28;43mself\u001b[39;49m\u001b[43m.\u001b[49m\u001b[43mleft_join_keys\u001b[49m\u001b[43m,\u001b[49m\u001b[43m \u001b[49m\u001b[38;5;28;43mself\u001b[39;49m\u001b[43m.\u001b[49m\u001b[43mright_join_keys\u001b[49m\u001b[43m,\u001b[49m\u001b[43m \u001b[49m\u001b[43msort\u001b[49m\u001b[43m=\u001b[49m\u001b[38;5;28;43mself\u001b[39;49m\u001b[43m.\u001b[49m\u001b[43msort\u001b[49m\u001b[43m,\u001b[49m\u001b[43m \u001b[49m\u001b[43mhow\u001b[49m\u001b[43m=\u001b[49m\u001b[38;5;28;43mself\u001b[39;49m\u001b[43m.\u001b[49m\u001b[43mhow\u001b[49m\n\u001b[32m   1128\u001b[39m \u001b[43m\u001b[49m\u001b[43m)\u001b[49m\n",
      "\u001b[36mFile \u001b[39m\u001b[32m~/code/Hackathon_Big_Data_2025/.venv/lib/python3.11/site-packages/pandas/core/reshape/merge.py:1760\u001b[39m, in \u001b[36mget_join_indexers\u001b[39m\u001b[34m(left_keys, right_keys, sort, how)\u001b[39m\n\u001b[32m   1758\u001b[39m     _, lidx, ridx = left.join(right, how=how, return_indexers=\u001b[38;5;28;01mTrue\u001b[39;00m, sort=sort)\n\u001b[32m   1759\u001b[39m \u001b[38;5;28;01melse\u001b[39;00m:\n\u001b[32m-> \u001b[39m\u001b[32m1760\u001b[39m     lidx, ridx = \u001b[43mget_join_indexers_non_unique\u001b[49m\u001b[43m(\u001b[49m\n\u001b[32m   1761\u001b[39m \u001b[43m        \u001b[49m\u001b[43mleft\u001b[49m\u001b[43m.\u001b[49m\u001b[43m_values\u001b[49m\u001b[43m,\u001b[49m\u001b[43m \u001b[49m\u001b[43mright\u001b[49m\u001b[43m.\u001b[49m\u001b[43m_values\u001b[49m\u001b[43m,\u001b[49m\u001b[43m \u001b[49m\u001b[43msort\u001b[49m\u001b[43m,\u001b[49m\u001b[43m \u001b[49m\u001b[43mhow\u001b[49m\n\u001b[32m   1762\u001b[39m \u001b[43m    \u001b[49m\u001b[43m)\u001b[49m\n\u001b[32m   1764\u001b[39m \u001b[38;5;28;01mif\u001b[39;00m lidx \u001b[38;5;129;01mis\u001b[39;00m \u001b[38;5;129;01mnot\u001b[39;00m \u001b[38;5;28;01mNone\u001b[39;00m \u001b[38;5;129;01mand\u001b[39;00m is_range_indexer(lidx, \u001b[38;5;28mlen\u001b[39m(left)):\n\u001b[32m   1765\u001b[39m     lidx = \u001b[38;5;28;01mNone\u001b[39;00m\n",
      "\u001b[36mFile \u001b[39m\u001b[32m~/code/Hackathon_Big_Data_2025/.venv/lib/python3.11/site-packages/pandas/core/reshape/merge.py:1796\u001b[39m, in \u001b[36mget_join_indexers_non_unique\u001b[39m\u001b[34m(left, right, sort, how)\u001b[39m\n\u001b[32m   1794\u001b[39m lkey, rkey, count = _factorize_keys(left, right, sort=sort)\n\u001b[32m   1795\u001b[39m \u001b[38;5;28;01mif\u001b[39;00m how == \u001b[33m\"\u001b[39m\u001b[33mleft\u001b[39m\u001b[33m\"\u001b[39m:\n\u001b[32m-> \u001b[39m\u001b[32m1796\u001b[39m     lidx, ridx = \u001b[43mlibjoin\u001b[49m\u001b[43m.\u001b[49m\u001b[43mleft_outer_join\u001b[49m\u001b[43m(\u001b[49m\u001b[43mlkey\u001b[49m\u001b[43m,\u001b[49m\u001b[43m \u001b[49m\u001b[43mrkey\u001b[49m\u001b[43m,\u001b[49m\u001b[43m \u001b[49m\u001b[43mcount\u001b[49m\u001b[43m,\u001b[49m\u001b[43m \u001b[49m\u001b[43msort\u001b[49m\u001b[43m=\u001b[49m\u001b[43msort\u001b[49m\u001b[43m)\u001b[49m\n\u001b[32m   1797\u001b[39m \u001b[38;5;28;01melif\u001b[39;00m how == \u001b[33m\"\u001b[39m\u001b[33mright\u001b[39m\u001b[33m\"\u001b[39m:\n\u001b[32m   1798\u001b[39m     ridx, lidx = libjoin.left_outer_join(rkey, lkey, count, sort=sort)\n",
      "\u001b[36mFile \u001b[39m\u001b[32mpandas/_libs/join.pyx:116\u001b[39m, in \u001b[36mpandas._libs.join.left_outer_join\u001b[39m\u001b[34m()\u001b[39m\n",
      "\u001b[31mMemoryError\u001b[39m: Unable to allocate 1.29 TiB for an array with shape (176710087974,) and data type int64"
     ]
    }
   ],
   "source": [
    "df3.merge(df2, how=\"left\", left_on=\"produto\", right_on=\"internal_product_id\")\n",
    "#df2.merge(df3, how=\"inner\", left_on=\"internal_product_id\", right_on=\"produto\").shape"
   ]
  },
  {
   "cell_type": "code",
   "execution_count": 35,
   "id": "6f0942ef",
   "metadata": {},
   "outputs": [
    {
     "ename": "KeyboardInterrupt",
     "evalue": "",
     "output_type": "error",
     "traceback": [
      "\u001b[31m---------------------------------------------------------------------------\u001b[39m",
      "\u001b[31mKeyboardInterrupt\u001b[39m                         Traceback (most recent call last)",
      "\u001b[36mCell\u001b[39m\u001b[36m \u001b[39m\u001b[32mIn[35]\u001b[39m\u001b[32m, line 1\u001b[39m\n\u001b[32m----> \u001b[39m\u001b[32m1\u001b[39m \u001b[43mdf3\u001b[49m\u001b[43m.\u001b[49m\u001b[43miloc\u001b[49m\u001b[43m[\u001b[49m\u001b[32;43m0\u001b[39;49m\u001b[43m:\u001b[49m\u001b[32;43m100000\u001b[39;49m\u001b[43m]\u001b[49m\u001b[43m.\u001b[49m\u001b[43mmerge\u001b[49m\u001b[43m(\u001b[49m\u001b[43mdf2\u001b[49m\u001b[43m,\u001b[49m\u001b[43m \u001b[49m\u001b[43mhow\u001b[49m\u001b[43m=\u001b[49m\u001b[33;43m\"\u001b[39;49m\u001b[33;43minner\u001b[39;49m\u001b[33;43m\"\u001b[39;49m\u001b[43m,\u001b[49m\u001b[43m \u001b[49m\u001b[43mleft_on\u001b[49m\u001b[43m=\u001b[49m\u001b[33;43m\"\u001b[39;49m\u001b[33;43mproduto\u001b[39;49m\u001b[33;43m\"\u001b[39;49m\u001b[43m,\u001b[49m\u001b[43m \u001b[49m\u001b[43mright_on\u001b[49m\u001b[43m=\u001b[49m\u001b[33;43m\"\u001b[39;49m\u001b[33;43minternal_product_id\u001b[39;49m\u001b[33;43m\"\u001b[39;49m\u001b[43m)\u001b[49m\n",
      "\u001b[36mFile \u001b[39m\u001b[32m~/code/Hackathon_Big_Data_2025/.venv/lib/python3.11/site-packages/pandas/core/frame.py:10839\u001b[39m, in \u001b[36mDataFrame.merge\u001b[39m\u001b[34m(self, right, how, on, left_on, right_on, left_index, right_index, sort, suffixes, copy, indicator, validate)\u001b[39m\n\u001b[32m  10820\u001b[39m \u001b[38;5;129m@Substitution\u001b[39m(\u001b[33m\"\u001b[39m\u001b[33m\"\u001b[39m)\n\u001b[32m  10821\u001b[39m \u001b[38;5;129m@Appender\u001b[39m(_merge_doc, indents=\u001b[32m2\u001b[39m)\n\u001b[32m  10822\u001b[39m \u001b[38;5;28;01mdef\u001b[39;00m\u001b[38;5;250m \u001b[39m\u001b[34mmerge\u001b[39m(\n\u001b[32m   (...)\u001b[39m\u001b[32m  10835\u001b[39m     validate: MergeValidate | \u001b[38;5;28;01mNone\u001b[39;00m = \u001b[38;5;28;01mNone\u001b[39;00m,\n\u001b[32m  10836\u001b[39m ) -> DataFrame:\n\u001b[32m  10837\u001b[39m     \u001b[38;5;28;01mfrom\u001b[39;00m\u001b[38;5;250m \u001b[39m\u001b[34;01mpandas\u001b[39;00m\u001b[34;01m.\u001b[39;00m\u001b[34;01mcore\u001b[39;00m\u001b[34;01m.\u001b[39;00m\u001b[34;01mreshape\u001b[39;00m\u001b[34;01m.\u001b[39;00m\u001b[34;01mmerge\u001b[39;00m\u001b[38;5;250m \u001b[39m\u001b[38;5;28;01mimport\u001b[39;00m merge\n\u001b[32m> \u001b[39m\u001b[32m10839\u001b[39m     \u001b[38;5;28;01mreturn\u001b[39;00m \u001b[43mmerge\u001b[49m\u001b[43m(\u001b[49m\n\u001b[32m  10840\u001b[39m \u001b[43m        \u001b[49m\u001b[38;5;28;43mself\u001b[39;49m\u001b[43m,\u001b[49m\n\u001b[32m  10841\u001b[39m \u001b[43m        \u001b[49m\u001b[43mright\u001b[49m\u001b[43m,\u001b[49m\n\u001b[32m  10842\u001b[39m \u001b[43m        \u001b[49m\u001b[43mhow\u001b[49m\u001b[43m=\u001b[49m\u001b[43mhow\u001b[49m\u001b[43m,\u001b[49m\n\u001b[32m  10843\u001b[39m \u001b[43m        \u001b[49m\u001b[43mon\u001b[49m\u001b[43m=\u001b[49m\u001b[43mon\u001b[49m\u001b[43m,\u001b[49m\n\u001b[32m  10844\u001b[39m \u001b[43m        \u001b[49m\u001b[43mleft_on\u001b[49m\u001b[43m=\u001b[49m\u001b[43mleft_on\u001b[49m\u001b[43m,\u001b[49m\n\u001b[32m  10845\u001b[39m \u001b[43m        \u001b[49m\u001b[43mright_on\u001b[49m\u001b[43m=\u001b[49m\u001b[43mright_on\u001b[49m\u001b[43m,\u001b[49m\n\u001b[32m  10846\u001b[39m \u001b[43m        \u001b[49m\u001b[43mleft_index\u001b[49m\u001b[43m=\u001b[49m\u001b[43mleft_index\u001b[49m\u001b[43m,\u001b[49m\n\u001b[32m  10847\u001b[39m \u001b[43m        \u001b[49m\u001b[43mright_index\u001b[49m\u001b[43m=\u001b[49m\u001b[43mright_index\u001b[49m\u001b[43m,\u001b[49m\n\u001b[32m  10848\u001b[39m \u001b[43m        \u001b[49m\u001b[43msort\u001b[49m\u001b[43m=\u001b[49m\u001b[43msort\u001b[49m\u001b[43m,\u001b[49m\n\u001b[32m  10849\u001b[39m \u001b[43m        \u001b[49m\u001b[43msuffixes\u001b[49m\u001b[43m=\u001b[49m\u001b[43msuffixes\u001b[49m\u001b[43m,\u001b[49m\n\u001b[32m  10850\u001b[39m \u001b[43m        \u001b[49m\u001b[43mcopy\u001b[49m\u001b[43m=\u001b[49m\u001b[43mcopy\u001b[49m\u001b[43m,\u001b[49m\n\u001b[32m  10851\u001b[39m \u001b[43m        \u001b[49m\u001b[43mindicator\u001b[49m\u001b[43m=\u001b[49m\u001b[43mindicator\u001b[49m\u001b[43m,\u001b[49m\n\u001b[32m  10852\u001b[39m \u001b[43m        \u001b[49m\u001b[43mvalidate\u001b[49m\u001b[43m=\u001b[49m\u001b[43mvalidate\u001b[49m\u001b[43m,\u001b[49m\n\u001b[32m  10853\u001b[39m \u001b[43m    \u001b[49m\u001b[43m)\u001b[49m\n",
      "\u001b[36mFile \u001b[39m\u001b[32m~/code/Hackathon_Big_Data_2025/.venv/lib/python3.11/site-packages/pandas/core/reshape/merge.py:184\u001b[39m, in \u001b[36mmerge\u001b[39m\u001b[34m(left, right, how, on, left_on, right_on, left_index, right_index, sort, suffixes, copy, indicator, validate)\u001b[39m\n\u001b[32m    169\u001b[39m \u001b[38;5;28;01melse\u001b[39;00m:\n\u001b[32m    170\u001b[39m     op = _MergeOperation(\n\u001b[32m    171\u001b[39m         left_df,\n\u001b[32m    172\u001b[39m         right_df,\n\u001b[32m   (...)\u001b[39m\u001b[32m    182\u001b[39m         validate=validate,\n\u001b[32m    183\u001b[39m     )\n\u001b[32m--> \u001b[39m\u001b[32m184\u001b[39m     \u001b[38;5;28;01mreturn\u001b[39;00m \u001b[43mop\u001b[49m\u001b[43m.\u001b[49m\u001b[43mget_result\u001b[49m\u001b[43m(\u001b[49m\u001b[43mcopy\u001b[49m\u001b[43m=\u001b[49m\u001b[43mcopy\u001b[49m\u001b[43m)\u001b[49m\n",
      "\u001b[36mFile \u001b[39m\u001b[32m~/code/Hackathon_Big_Data_2025/.venv/lib/python3.11/site-packages/pandas/core/reshape/merge.py:888\u001b[39m, in \u001b[36m_MergeOperation.get_result\u001b[39m\u001b[34m(self, copy)\u001b[39m\n\u001b[32m    884\u001b[39m     \u001b[38;5;28mself\u001b[39m.left, \u001b[38;5;28mself\u001b[39m.right = \u001b[38;5;28mself\u001b[39m._indicator_pre_merge(\u001b[38;5;28mself\u001b[39m.left, \u001b[38;5;28mself\u001b[39m.right)\n\u001b[32m    886\u001b[39m join_index, left_indexer, right_indexer = \u001b[38;5;28mself\u001b[39m._get_join_info()\n\u001b[32m--> \u001b[39m\u001b[32m888\u001b[39m result = \u001b[38;5;28;43mself\u001b[39;49m\u001b[43m.\u001b[49m\u001b[43m_reindex_and_concat\u001b[49m\u001b[43m(\u001b[49m\n\u001b[32m    889\u001b[39m \u001b[43m    \u001b[49m\u001b[43mjoin_index\u001b[49m\u001b[43m,\u001b[49m\u001b[43m \u001b[49m\u001b[43mleft_indexer\u001b[49m\u001b[43m,\u001b[49m\u001b[43m \u001b[49m\u001b[43mright_indexer\u001b[49m\u001b[43m,\u001b[49m\u001b[43m \u001b[49m\u001b[43mcopy\u001b[49m\u001b[43m=\u001b[49m\u001b[43mcopy\u001b[49m\n\u001b[32m    890\u001b[39m \u001b[43m\u001b[49m\u001b[43m)\u001b[49m\n\u001b[32m    891\u001b[39m result = result.__finalize__(\u001b[38;5;28mself\u001b[39m, method=\u001b[38;5;28mself\u001b[39m._merge_type)\n\u001b[32m    893\u001b[39m \u001b[38;5;28;01mif\u001b[39;00m \u001b[38;5;28mself\u001b[39m.indicator:\n",
      "\u001b[36mFile \u001b[39m\u001b[32m~/code/Hackathon_Big_Data_2025/.venv/lib/python3.11/site-packages/pandas/core/reshape/merge.py:879\u001b[39m, in \u001b[36m_MergeOperation._reindex_and_concat\u001b[39m\u001b[34m(self, join_index, left_indexer, right_indexer, copy)\u001b[39m\n\u001b[32m    877\u001b[39m left.columns = llabels\n\u001b[32m    878\u001b[39m right.columns = rlabels\n\u001b[32m--> \u001b[39m\u001b[32m879\u001b[39m result = \u001b[43mconcat\u001b[49m\u001b[43m(\u001b[49m\u001b[43m[\u001b[49m\u001b[43mleft\u001b[49m\u001b[43m,\u001b[49m\u001b[43m \u001b[49m\u001b[43mright\u001b[49m\u001b[43m]\u001b[49m\u001b[43m,\u001b[49m\u001b[43m \u001b[49m\u001b[43maxis\u001b[49m\u001b[43m=\u001b[49m\u001b[32;43m1\u001b[39;49m\u001b[43m,\u001b[49m\u001b[43m \u001b[49m\u001b[43mcopy\u001b[49m\u001b[43m=\u001b[49m\u001b[43mcopy\u001b[49m\u001b[43m)\u001b[49m\n\u001b[32m    880\u001b[39m \u001b[38;5;28;01mreturn\u001b[39;00m result\n",
      "\u001b[36mFile \u001b[39m\u001b[32m~/code/Hackathon_Big_Data_2025/.venv/lib/python3.11/site-packages/pandas/core/reshape/concat.py:395\u001b[39m, in \u001b[36mconcat\u001b[39m\u001b[34m(objs, axis, join, ignore_index, keys, levels, names, verify_integrity, sort, copy)\u001b[39m\n\u001b[32m    380\u001b[39m     copy = \u001b[38;5;28;01mFalse\u001b[39;00m\n\u001b[32m    382\u001b[39m op = _Concatenator(\n\u001b[32m    383\u001b[39m     objs,\n\u001b[32m    384\u001b[39m     axis=axis,\n\u001b[32m   (...)\u001b[39m\u001b[32m    392\u001b[39m     sort=sort,\n\u001b[32m    393\u001b[39m )\n\u001b[32m--> \u001b[39m\u001b[32m395\u001b[39m \u001b[38;5;28;01mreturn\u001b[39;00m \u001b[43mop\u001b[49m\u001b[43m.\u001b[49m\u001b[43mget_result\u001b[49m\u001b[43m(\u001b[49m\u001b[43m)\u001b[49m\n",
      "\u001b[36mFile \u001b[39m\u001b[32m~/code/Hackathon_Big_Data_2025/.venv/lib/python3.11/site-packages/pandas/core/reshape/concat.py:684\u001b[39m, in \u001b[36m_Concatenator.get_result\u001b[39m\u001b[34m(self)\u001b[39m\n\u001b[32m    680\u001b[39m             indexers[ax] = obj_labels.get_indexer(new_labels)\n\u001b[32m    682\u001b[39m     mgrs_indexers.append((obj._mgr, indexers))\n\u001b[32m--> \u001b[39m\u001b[32m684\u001b[39m new_data = \u001b[43mconcatenate_managers\u001b[49m\u001b[43m(\u001b[49m\n\u001b[32m    685\u001b[39m \u001b[43m    \u001b[49m\u001b[43mmgrs_indexers\u001b[49m\u001b[43m,\u001b[49m\u001b[43m \u001b[49m\u001b[38;5;28;43mself\u001b[39;49m\u001b[43m.\u001b[49m\u001b[43mnew_axes\u001b[49m\u001b[43m,\u001b[49m\u001b[43m \u001b[49m\u001b[43mconcat_axis\u001b[49m\u001b[43m=\u001b[49m\u001b[38;5;28;43mself\u001b[39;49m\u001b[43m.\u001b[49m\u001b[43mbm_axis\u001b[49m\u001b[43m,\u001b[49m\u001b[43m \u001b[49m\u001b[43mcopy\u001b[49m\u001b[43m=\u001b[49m\u001b[38;5;28;43mself\u001b[39;49m\u001b[43m.\u001b[49m\u001b[43mcopy\u001b[49m\n\u001b[32m    686\u001b[39m \u001b[43m\u001b[49m\u001b[43m)\u001b[49m\n\u001b[32m    687\u001b[39m \u001b[38;5;28;01mif\u001b[39;00m \u001b[38;5;129;01mnot\u001b[39;00m \u001b[38;5;28mself\u001b[39m.copy \u001b[38;5;129;01mand\u001b[39;00m \u001b[38;5;129;01mnot\u001b[39;00m using_copy_on_write():\n\u001b[32m    688\u001b[39m     new_data._consolidate_inplace()\n",
      "\u001b[36mFile \u001b[39m\u001b[32m~/code/Hackathon_Big_Data_2025/.venv/lib/python3.11/site-packages/pandas/core/internals/concat.py:131\u001b[39m, in \u001b[36mconcatenate_managers\u001b[39m\u001b[34m(mgrs_indexers, axes, concat_axis, copy)\u001b[39m\n\u001b[32m    124\u001b[39m \u001b[38;5;66;03m# Assertions disabled for performance\u001b[39;00m\n\u001b[32m    125\u001b[39m \u001b[38;5;66;03m# for tup in mgrs_indexers:\u001b[39;00m\n\u001b[32m    126\u001b[39m \u001b[38;5;66;03m#    # caller is responsible for ensuring this\u001b[39;00m\n\u001b[32m    127\u001b[39m \u001b[38;5;66;03m#    indexers = tup[1]\u001b[39;00m\n\u001b[32m    128\u001b[39m \u001b[38;5;66;03m#    assert concat_axis not in indexers\u001b[39;00m\n\u001b[32m    130\u001b[39m \u001b[38;5;28;01mif\u001b[39;00m concat_axis == \u001b[32m0\u001b[39m:\n\u001b[32m--> \u001b[39m\u001b[32m131\u001b[39m     mgrs = \u001b[43m_maybe_reindex_columns_na_proxy\u001b[49m\u001b[43m(\u001b[49m\u001b[43maxes\u001b[49m\u001b[43m,\u001b[49m\u001b[43m \u001b[49m\u001b[43mmgrs_indexers\u001b[49m\u001b[43m,\u001b[49m\u001b[43m \u001b[49m\u001b[43mneeds_copy\u001b[49m\u001b[43m)\u001b[49m\n\u001b[32m    132\u001b[39m     \u001b[38;5;28;01mreturn\u001b[39;00m mgrs[\u001b[32m0\u001b[39m].concat_horizontal(mgrs, axes)\n\u001b[32m    134\u001b[39m \u001b[38;5;28;01mif\u001b[39;00m \u001b[38;5;28mlen\u001b[39m(mgrs_indexers) > \u001b[32m0\u001b[39m \u001b[38;5;129;01mand\u001b[39;00m mgrs_indexers[\u001b[32m0\u001b[39m][\u001b[32m0\u001b[39m].nblocks > \u001b[32m0\u001b[39m:\n",
      "\u001b[36mFile \u001b[39m\u001b[32m~/code/Hackathon_Big_Data_2025/.venv/lib/python3.11/site-packages/pandas/core/internals/concat.py:230\u001b[39m, in \u001b[36m_maybe_reindex_columns_na_proxy\u001b[39m\u001b[34m(axes, mgrs_indexers, needs_copy)\u001b[39m\n\u001b[32m    220\u001b[39m         mgr = mgr.reindex_indexer(\n\u001b[32m    221\u001b[39m             axes[i],\n\u001b[32m    222\u001b[39m             indexers[i],\n\u001b[32m   (...)\u001b[39m\u001b[32m    227\u001b[39m             use_na_proxy=\u001b[38;5;28;01mTrue\u001b[39;00m,  \u001b[38;5;66;03m# only relevant for i==0\u001b[39;00m\n\u001b[32m    228\u001b[39m         )\n\u001b[32m    229\u001b[39m     \u001b[38;5;28;01mif\u001b[39;00m needs_copy \u001b[38;5;129;01mand\u001b[39;00m \u001b[38;5;129;01mnot\u001b[39;00m indexers:\n\u001b[32m--> \u001b[39m\u001b[32m230\u001b[39m         mgr = \u001b[43mmgr\u001b[49m\u001b[43m.\u001b[49m\u001b[43mcopy\u001b[49m\u001b[43m(\u001b[49m\u001b[43m)\u001b[49m\n\u001b[32m    232\u001b[39m     new_mgrs.append(mgr)\n\u001b[32m    233\u001b[39m \u001b[38;5;28;01mreturn\u001b[39;00m new_mgrs\n",
      "\u001b[36mFile \u001b[39m\u001b[32m~/code/Hackathon_Big_Data_2025/.venv/lib/python3.11/site-packages/pandas/core/internals/managers.py:593\u001b[39m, in \u001b[36mBaseBlockManager.copy\u001b[39m\u001b[34m(self, deep)\u001b[39m\n\u001b[32m    590\u001b[39m     \u001b[38;5;28;01melse\u001b[39;00m:\n\u001b[32m    591\u001b[39m         new_axes = \u001b[38;5;28mlist\u001b[39m(\u001b[38;5;28mself\u001b[39m.axes)\n\u001b[32m--> \u001b[39m\u001b[32m593\u001b[39m res = \u001b[38;5;28;43mself\u001b[39;49m\u001b[43m.\u001b[49m\u001b[43mapply\u001b[49m\u001b[43m(\u001b[49m\u001b[33;43m\"\u001b[39;49m\u001b[33;43mcopy\u001b[39;49m\u001b[33;43m\"\u001b[39;49m\u001b[43m,\u001b[49m\u001b[43m \u001b[49m\u001b[43mdeep\u001b[49m\u001b[43m=\u001b[49m\u001b[43mdeep\u001b[49m\u001b[43m)\u001b[49m\n\u001b[32m    594\u001b[39m res.axes = new_axes\n\u001b[32m    596\u001b[39m \u001b[38;5;28;01mif\u001b[39;00m \u001b[38;5;28mself\u001b[39m.ndim > \u001b[32m1\u001b[39m:\n\u001b[32m    597\u001b[39m     \u001b[38;5;66;03m# Avoid needing to re-compute these\u001b[39;00m\n",
      "\u001b[36mFile \u001b[39m\u001b[32m~/code/Hackathon_Big_Data_2025/.venv/lib/python3.11/site-packages/pandas/core/internals/managers.py:363\u001b[39m, in \u001b[36mBaseBlockManager.apply\u001b[39m\u001b[34m(self, f, align_keys, **kwargs)\u001b[39m\n\u001b[32m    361\u001b[39m         applied = b.apply(f, **kwargs)\n\u001b[32m    362\u001b[39m     \u001b[38;5;28;01melse\u001b[39;00m:\n\u001b[32m--> \u001b[39m\u001b[32m363\u001b[39m         applied = \u001b[38;5;28;43mgetattr\u001b[39;49m\u001b[43m(\u001b[49m\u001b[43mb\u001b[49m\u001b[43m,\u001b[49m\u001b[43m \u001b[49m\u001b[43mf\u001b[49m\u001b[43m)\u001b[49m\u001b[43m(\u001b[49m\u001b[43m*\u001b[49m\u001b[43m*\u001b[49m\u001b[43mkwargs\u001b[49m\u001b[43m)\u001b[49m\n\u001b[32m    364\u001b[39m     result_blocks = extend_blocks(applied, result_blocks)\n\u001b[32m    366\u001b[39m out = \u001b[38;5;28mtype\u001b[39m(\u001b[38;5;28mself\u001b[39m).from_blocks(result_blocks, \u001b[38;5;28mself\u001b[39m.axes)\n",
      "\u001b[36mFile \u001b[39m\u001b[32m~/code/Hackathon_Big_Data_2025/.venv/lib/python3.11/site-packages/pandas/core/internals/blocks.py:822\u001b[39m, in \u001b[36mBlock.copy\u001b[39m\u001b[34m(self, deep)\u001b[39m\n\u001b[32m    820\u001b[39m refs: BlockValuesRefs | \u001b[38;5;28;01mNone\u001b[39;00m\n\u001b[32m    821\u001b[39m \u001b[38;5;28;01mif\u001b[39;00m deep:\n\u001b[32m--> \u001b[39m\u001b[32m822\u001b[39m     values = values.copy()\n\u001b[32m    823\u001b[39m     refs = \u001b[38;5;28;01mNone\u001b[39;00m\n\u001b[32m    824\u001b[39m \u001b[38;5;28;01melse\u001b[39;00m:\n",
      "\u001b[31mKeyboardInterrupt\u001b[39m: "
     ]
    }
   ],
   "source": [
    "df3.iloc[0:100000].merge(df2, how=\"inner\", left_on=\"produto\", right_on=\"internal_product_id\")"
   ]
  },
  {
   "cell_type": "code",
   "execution_count": null,
   "id": "aa661405",
   "metadata": {},
   "outputs": [],
   "source": []
  }
 ],
 "metadata": {
  "kernelspec": {
   "display_name": "hackathon-big-data-2025",
   "language": "python",
   "name": "python3"
  },
  "language_info": {
   "codemirror_mode": {
    "name": "ipython",
    "version": 3
   },
   "file_extension": ".py",
   "mimetype": "text/x-python",
   "name": "python",
   "nbconvert_exporter": "python",
   "pygments_lexer": "ipython3",
   "version": "3.11.5"
  }
 },
 "nbformat": 4,
 "nbformat_minor": 5
}
