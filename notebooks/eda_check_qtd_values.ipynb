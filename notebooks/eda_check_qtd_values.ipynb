{
 "cells": [
  {
   "cell_type": "markdown",
   "id": "97175e37",
   "metadata": {},
   "source": [
    "# OBJETIVO:\n",
    "\n",
    "1. Identificar possíveis casos com erros no dataset, em que há valores nulos ou negativos para a variável quantidade.\n",
    "2. Observar o comportamento de outras variáveis de transação nesses casos"
   ]
  },
  {
   "cell_type": "code",
   "execution_count": 165,
   "id": "29dd0b54",
   "metadata": {},
   "outputs": [],
   "source": [
    "import pandas as pd\n",
    "import matplotlib.pyplot as plt\n",
    "import seaborn as sns\n",
    "import numpy as np"
   ]
  },
  {
   "cell_type": "code",
   "execution_count": 166,
   "id": "c8e0f897",
   "metadata": {},
   "outputs": [],
   "source": [
    "df = pd.read_parquet(\"/data/challenges/hackathon_bigdata_2025/processed_data/transacoes_merged.parquet\")\n",
    "df_pos = df[df.quantidade > 0]"
   ]
  },
  {
   "cell_type": "code",
   "execution_count": 142,
   "id": "7bc711a9",
   "metadata": {},
   "outputs": [
    {
     "data": {
      "text/plain": [
       "pdv                    1001371918471115422\n",
       "zipcode                            30175.0\n",
       "produto                1029370090212151375\n",
       "semana                                   1\n",
       "mes                                      1\n",
       "ano                                   2022\n",
       "categoria_pdv                  Convenience\n",
       "categoria                          Package\n",
       "subcategoria                         Lager\n",
       "premise                        Off Premise\n",
       "tipos                              Package\n",
       "label                                 Core\n",
       "marca                       Michelob Ultra\n",
       "fabricante           AB Anheuser Busch Inc\n",
       "descricao        MICHELOB ULTRA 2/12/12 CN\n",
       "gross_value                      54.299999\n",
       "net_value                        49.740486\n",
       "gross_profit                     16.224486\n",
       "discount                               0.0\n",
       "taxes                             4.559516\n",
       "quantidade                             2.0\n",
       "Name: 0, dtype: object"
      ]
     },
     "execution_count": 142,
     "metadata": {},
     "output_type": "execute_result"
    }
   ],
   "source": [
    "df.iloc[0]"
   ]
  },
  {
   "cell_type": "code",
   "execution_count": 145,
   "id": "14db3ff1",
   "metadata": {},
   "outputs": [],
   "source": [
    "# net_value = gross_value - taxes"
   ]
  },
  {
   "cell_type": "code",
   "execution_count": 55,
   "id": "2fe13a71",
   "metadata": {},
   "outputs": [
    {
     "data": {
      "text/plain": [
       "Index(['pdv', 'zipcode', 'produto', 'semana', 'mes', 'ano', 'categoria_pdv',\n",
       "       'categoria', 'subcategoria', 'premise', 'tipos', 'label', 'marca',\n",
       "       'fabricante', 'descricao', 'gross_value', 'net_value', 'gross_profit',\n",
       "       'discount', 'taxes', 'quantidade'],\n",
       "      dtype='object')"
      ]
     },
     "execution_count": 55,
     "metadata": {},
     "output_type": "execute_result"
    }
   ],
   "source": [
    "df.columns"
   ]
  },
  {
   "cell_type": "code",
   "execution_count": 56,
   "id": "5c062595",
   "metadata": {},
   "outputs": [],
   "source": [
    "df = df[df.quantidade <= 0] # Apenas casos <= 0"
   ]
  },
  {
   "cell_type": "code",
   "execution_count": 65,
   "id": "d643965a",
   "metadata": {},
   "outputs": [
    {
     "data": {
      "text/plain": [
       "((110352, 21), (56047, 21), (54305, 21))"
      ]
     },
     "execution_count": 65,
     "metadata": {},
     "output_type": "execute_result"
    }
   ],
   "source": [
    "df.shape, df[df.quantidade == 0].shape, df[df.quantidade <0].shape"
   ]
  },
  {
   "cell_type": "code",
   "execution_count": 61,
   "id": "49da431c",
   "metadata": {},
   "outputs": [
    {
     "data": {
      "text/plain": [
       "(np.float64(-1531.0), 489)"
      ]
     },
     "execution_count": 61,
     "metadata": {},
     "output_type": "execute_result"
    }
   ],
   "source": [
    "df.quantidade.min() - 1, df.quantidade.unique().shape[0]"
   ]
  },
  {
   "cell_type": "code",
   "execution_count": 96,
   "id": "f92c8421",
   "metadata": {},
   "outputs": [
    {
     "data": {
      "text/plain": [
       "quantidade\n",
       " 0.000000     56047\n",
       "-1.000000     17613\n",
       "-0.500000      6061\n",
       "-2.000000      5811\n",
       "-0.250000      2784\n",
       "              ...  \n",
       "-3.000024         1\n",
       "-8.000028         1\n",
       "-5.999952         1\n",
       "-46.000008        1\n",
       "-14.000004        1\n",
       "Name: count, Length: 489, dtype: int64"
      ]
     },
     "execution_count": 96,
     "metadata": {},
     "output_type": "execute_result"
    }
   ],
   "source": [
    "df.quantidade.value_counts()"
   ]
  },
  {
   "cell_type": "code",
   "execution_count": 98,
   "id": "a5962d2a",
   "metadata": {},
   "outputs": [
    {
     "data": {
      "text/plain": [
       "quantidade\n",
       " 0.000000e+00    56047\n",
       "-5.960464e-08        3\n",
       "-1.192093e-07        4\n",
       "-2.384186e-07        1\n",
       "-3.576279e-07        3\n",
       "                 ...  \n",
       "-6.780000e+02        1\n",
       "-7.200000e+02        1\n",
       "-1.200000e+03        1\n",
       "-1.381000e+03        1\n",
       "-1.530000e+03        1\n",
       "Name: count, Length: 489, dtype: int64"
      ]
     },
     "execution_count": 98,
     "metadata": {},
     "output_type": "execute_result"
    }
   ],
   "source": [
    "df.quantidade.value_counts().sort_index(ascending=False)"
   ]
  },
  {
   "cell_type": "code",
   "execution_count": 125,
   "id": "2699dd27",
   "metadata": {},
   "outputs": [
    {
     "data": {
      "image/png": "[encoded data removed]",
      "text/plain": [
       "<Figure size 600x300 with 1 Axes>"
      ]
     },
     "metadata": {},
     "output_type": "display_data"
    }
   ],
   "source": [
    "# Histograma da variável quantidade (casos <= 0)\n",
    "#plt.hist(df.quantidade, bins = 6000, align='right', rwidth=0.4)\n",
    "plt.figure(figsize=(6, 3))\n",
    "sns.histplot(data=df, x='quantidade',bins=df.quantidade.nunique(), binwidth=0.3)\n",
    "plt.xlim(-12, 1)\n",
    "plt.xticks(np.arange(-10, 1, 1));\n",
    "#plt.yticks([5000] +list(np.arange(0, 100001, 10000)), rotation=15)\n",
    "#plt.grid(alpha=0.5)\n",
    "plt.show()"
   ]
  },
  {
   "cell_type": "markdown",
   "id": "74b08b32",
   "metadata": {},
   "source": [
    "Observamos que a maioria dos casos (>50k) são os de quantidade = 0.\n",
    "\n",
    "Para qtd < 0, temos lucro negativo?"
   ]
  },
  {
   "cell_type": "code",
   "execution_count": 59,
   "id": "22d28882",
   "metadata": {},
   "outputs": [],
   "source": [
    "df_neg = df[df.quantidade<0]"
   ]
  },
  {
   "cell_type": "code",
   "execution_count": 115,
   "id": "abc7dda9",
   "metadata": {},
   "outputs": [
    {
     "data": {
      "image/png": "[encoded data removed]",
      "text/plain": [
       "<Figure size 600x300 with 1 Axes>"
      ]
     },
     "metadata": {},
     "output_type": "display_data"
    }
   ],
   "source": [
    "plt.figure(figsize=(6,3))\n",
    "sns.scatterplot(data=df_neg, x='quantidade', y='gross_value')\n",
    "plt.xlim(-600,50)\n",
    "plt.ylim(-20000,1000)\n",
    "plt.axhline(y=0, color='red', linestyle='--', alpha=0.3)\n",
    "plt.grid()\n"
   ]
  },
  {
   "cell_type": "code",
   "execution_count": 132,
   "id": "38ca253e",
   "metadata": {},
   "outputs": [
    {
     "data": {
      "image/png": "[encoded data removed]",
      "text/plain": [
       "<Figure size 600x300 with 1 Axes>"
      ]
     },
     "metadata": {},
     "output_type": "display_data"
    }
   ],
   "source": [
    "plt.figure(figsize=(6,3))\n",
    "sns.scatterplot(data=df_neg, x='quantidade', y='gross_profit')\n",
    "plt.xlim(-600,50)\n",
    "plt.ylim(-13000,7000)\n",
    "plt.axhline(y=0, color='red', linestyle='--', alpha=0.3)\n",
    "plt.grid()"
   ]
  },
  {
   "cell_type": "code",
   "execution_count": 138,
   "id": "1a7296f1",
   "metadata": {},
   "outputs": [
    {
     "data": {
      "image/png": "[encoded data removed]",
      "text/plain": [
       "<Figure size 600x300 with 1 Axes>"
      ]
     },
     "metadata": {},
     "output_type": "display_data"
    }
   ],
   "source": [
    "plt.figure(figsize=(6,3))\n",
    "sns.scatterplot(data=df_neg, x='quantidade', y='net_value')\n",
    "plt.xlim(-600,50)\n",
    "plt.ylim(-20000,1000)\n",
    "plt.axhline(y=0, color='red', linestyle='--', alpha=0.3)\n",
    "plt.grid()"
   ]
  },
  {
   "cell_type": "code",
   "execution_count": 160,
   "id": "83de9ec6",
   "metadata": {},
   "outputs": [
    {
     "data": {
      "image/png": "[encoded data removed]",
      "text/plain": [
       "<Figure size 600x300 with 1 Axes>"
      ]
     },
     "metadata": {},
     "output_type": "display_data"
    }
   ],
   "source": [
    "plt.figure(figsize=(6,3))\n",
    "sns.scatterplot(data=df_neg, x='quantidade', y='discount')\n",
    "plt.xlim(-600,50)\n",
    "plt.ylim(-20000,1000)\n",
    "plt.axhline(y=0, color='red', linestyle='--', alpha=0.3)\n",
    "plt.grid()"
   ]
  },
  {
   "cell_type": "code",
   "execution_count": 134,
   "id": "d59ec086",
   "metadata": {},
   "outputs": [
    {
     "data": {
      "text/plain": [
       "pdv                                            1027356552181929439\n",
       "zipcode                                                    30720.0\n",
       "produto                                        1909985342164895673\n",
       "semana                                                           1\n",
       "mes                                                              1\n",
       "ano                                                           2022\n",
       "categoria_pdv                                         Super Center\n",
       "categoria                                                  Package\n",
       "subcategoria                                         Other Package\n",
       "premise                                                Off Premise\n",
       "tipos                                                      Package\n",
       "label                                                         Core\n",
       "marca             Michelob Ultra Organic Seltzer Signature Variety\n",
       "fabricante                                   AB Anheuser Busch Inc\n",
       "descricao        MICHELOB ULTRA ORGANIC SELTZER SIGNATURE VP 24...\n",
       "gross_value                                                 -257.0\n",
       "net_value                                              -234.202423\n",
       "gross_profit                                            -73.642426\n",
       "discount                                                       0.0\n",
       "taxes                                                   -22.797581\n",
       "quantidade                                                   -10.0\n",
       "Name: 157, dtype: object"
      ]
     },
     "execution_count": 134,
     "metadata": {},
     "output_type": "execute_result"
    }
   ],
   "source": [
    "df_neg.iloc[0]"
   ]
  },
  {
   "cell_type": "markdown",
   "id": "8d697f78",
   "metadata": {},
   "source": [
    "Observações:\n",
    "1. Temos diversos casos com uma quantidade negativa não inteira, o que é incoerente, assumindo que a quantidade de vendas é necessariamente um valor inteiro, seja positivo ou negativo (não se vende 0.5 produto, por ex).\n",
    "2. Para quantidades negativas inteiras, há uma série de instâncias em que gross_profit e net_value são também negativos. Assumindo que uma quantia negativa represente algum tipo de perda do produto (e.g. saíram da validade), é coerente que esses valores sejam negativos. Logo, quaisquer instâncias não negativas desses valores não fazem sentido. \n",
    "3. A variável discount representa um desconto no produto. Toda instância < 0 dela é incoerente\n"
   ]
  },
  {
   "cell_type": "markdown",
   "id": "5bf19f84",
   "metadata": {},
   "source": [
    "Agora, olhando casos em que a quantidade é zero:"
   ]
  },
  {
   "cell_type": "code",
   "execution_count": 146,
   "id": "c50ffc1d",
   "metadata": {},
   "outputs": [],
   "source": [
    "df = df[df.quantidade == 0]"
   ]
  },
  {
   "cell_type": "code",
   "execution_count": 188,
   "id": "72f0c072",
   "metadata": {},
   "outputs": [
    {
     "data": {
      "text/plain": [
       "taxes\n",
       "-4099.408691    1\n",
       "-3488.029785    1\n",
       "-1436.722534    1\n",
       "-1342.777466    1\n",
       "-1139.879028    1\n",
       "               ..\n",
       " 1138.853519    1\n",
       " 1191.443806    1\n",
       " 1202.123161    1\n",
       " 1367.854858    1\n",
       " 2073.237549    1\n",
       "Name: count, Length: 15437, dtype: int64"
      ]
     },
     "execution_count": 188,
     "metadata": {},
     "output_type": "execute_result"
    }
   ],
   "source": [
    "df.taxes.value_counts().sort_index() # ~ maioria dos impostos = 0 ou praticamente igual a zero"
   ]
  },
  {
   "cell_type": "code",
   "execution_count": 154,
   "id": "3399c1da",
   "metadata": {},
   "outputs": [
    {
     "data": {
      "text/plain": [
       "net_value\n",
       "-37.199951         1\n",
       "-61.160004         1\n",
       "-180.000000        1\n",
       "-8.199997          1\n",
       "-1.760002          1\n",
       "               ...  \n",
       "-2.160002         44\n",
       "-5.400002         58\n",
       "-1.800003         63\n",
       " 0.020004         88\n",
       " 0.000000      51652\n",
       "Name: count, Length: 1932, dtype: int64"
      ]
     },
     "execution_count": 154,
     "metadata": {},
     "output_type": "execute_result"
    }
   ],
   "source": [
    "df.net_value.value_counts().sort_values() # ~ maioria dos net_values = 0, porém há uma série de casos negativos"
   ]
  },
  {
   "cell_type": "code",
   "execution_count": 156,
   "id": "60b9da37",
   "metadata": {},
   "outputs": [
    {
     "data": {
      "text/plain": [
       "gross_value\n",
       " 12.794998         1\n",
       " 1.335007          1\n",
       "-4.625000          1\n",
       "-180.000000        1\n",
       "-8.199997          1\n",
       "               ...  \n",
       "-2.160002         44\n",
       "-5.400002         58\n",
       "-1.800003         63\n",
       " 0.020004         88\n",
       " 0.000000      51693\n",
       "Name: count, Length: 1874, dtype: int64"
      ]
     },
     "execution_count": 156,
     "metadata": {},
     "output_type": "execute_result"
    }
   ],
   "source": [
    "df.gross_value.value_counts().sort_values() # ~ maioria dos gross_values = 0, porém há uma série de casos negativos"
   ]
  },
  {
   "cell_type": "code",
   "execution_count": 164,
   "id": "0aba3888",
   "metadata": {},
   "outputs": [
    {
     "data": {
      "text/plain": [
       "gross_profit\n",
       "-39004.785156     1\n",
       "-27173.433594     1\n",
       "-24080.126953     1\n",
       "-20480.544922     1\n",
       "-18660.380859     1\n",
       "                 ..\n",
       " 20480.548828     1\n",
       " 24080.121094     1\n",
       " 27173.441406     1\n",
       " 39004.789062     1\n",
       " 274460.663929    1\n",
       "Name: count, Length: 15554, dtype: int64"
      ]
     },
     "execution_count": 164,
     "metadata": {},
     "output_type": "execute_result"
    }
   ],
   "source": [
    "df.gross_profit.value_counts().sort_index() # ~ maioria dos gross_values = 0, porém há uma série de casos negativos"
   ]
  },
  {
   "cell_type": "code",
   "execution_count": 158,
   "id": "02fbd850",
   "metadata": {},
   "outputs": [
    {
     "data": {
      "text/plain": [
       "discount\n",
       "4.680000          1\n",
       "163.199997        1\n",
       "516.500000        1\n",
       "56.899994         1\n",
       "168.199997        1\n",
       "              ...  \n",
       "2.500000         46\n",
       "3.000000         47\n",
       "12.000000        63\n",
       "15.000000        69\n",
       "0.000000      51315\n",
       "Name: count, Length: 1957, dtype: int64"
      ]
     },
     "execution_count": 158,
     "metadata": {},
     "output_type": "execute_result"
    }
   ],
   "source": [
    "df.discount.value_counts().sort_values() # ~ diversos valores = 0, mas vários positivos, o que é coerente"
   ]
  },
  {
   "cell_type": "markdown",
   "id": "2b6994fb",
   "metadata": {},
   "source": [
    "Observações:\n",
    "\n",
    "1. Os casos coerentes consistem nos que (net_value,gross_value, gross_profit) = 0. Nessas variáveis, há uma série de casos em que elas tem valores muito próximos de 0; Poderíamos fazer algum tipo de processamento para zerá-las, se mantivermos.\n",
    "2. A variável discount pode ter qualquer valor >=0.\n"
   ]
  },
  {
   "cell_type": "code",
   "execution_count": 176,
   "id": "ea1a9f53",
   "metadata": {},
   "outputs": [
    {
     "data": {
      "text/plain": [
       "(0.0, 30000.0)"
      ]
     },
     "execution_count": 176,
     "metadata": {},
     "output_type": "execute_result"
    },
    {
     "data": {
      "image/png": "[encoded data removed]",
      "text/plain": [
       "<Figure size 640x480 with 1 Axes>"
      ]
     },
     "metadata": {},
     "output_type": "display_data"
    }
   ],
   "source": [
    "sample = df_pos.sample(100000)\n",
    "sample['unit_value'] = sample['gross_value'] / sample['quantidade']\n",
    "sns.scatterplot(data=sample, x='unit_value', y='discount')\n",
    "plt.xlim(-100,5000)\n",
    "plt.ylim(0,30000)\n"
   ]
  },
  {
   "cell_type": "code",
   "execution_count": 179,
   "id": "20e0358f",
   "metadata": {},
   "outputs": [
    {
     "data": {
      "text/html": [
       "<div>\n",
       "<style scoped>\n",
       "    .dataframe tbody tr th:only-of-type {\n",
       "        vertical-align: middle;\n",
       "    }\n",
       "\n",
       "    .dataframe tbody tr th {\n",
       "        vertical-align: top;\n",
       "    }\n",
       "\n",
       "    .dataframe thead th {\n",
       "        text-align: right;\n",
       "    }\n",
       "</style>\n",
       "<table border=\"1\" class=\"dataframe\">\n",
       "  <thead>\n",
       "    <tr style=\"text-align: right;\">\n",
       "      <th></th>\n",
       "      <th>pdv</th>\n",
       "      <th>zipcode</th>\n",
       "      <th>produto</th>\n",
       "      <th>semana</th>\n",
       "      <th>mes</th>\n",
       "      <th>ano</th>\n",
       "      <th>categoria_pdv</th>\n",
       "      <th>categoria</th>\n",
       "      <th>subcategoria</th>\n",
       "      <th>premise</th>\n",
       "      <th>...</th>\n",
       "      <th>label</th>\n",
       "      <th>marca</th>\n",
       "      <th>fabricante</th>\n",
       "      <th>descricao</th>\n",
       "      <th>gross_value</th>\n",
       "      <th>net_value</th>\n",
       "      <th>gross_profit</th>\n",
       "      <th>discount</th>\n",
       "      <th>taxes</th>\n",
       "      <th>quantidade</th>\n",
       "    </tr>\n",
       "  </thead>\n",
       "  <tbody>\n",
       "    <tr>\n",
       "      <th>276</th>\n",
       "      <td>1038124409129670108</td>\n",
       "      <td>30519.0</td>\n",
       "      <td>8707095500115469700</td>\n",
       "      <td>1</td>\n",
       "      <td>1</td>\n",
       "      <td>2022</td>\n",
       "      <td>Barbeque</td>\n",
       "      <td>Wine</td>\n",
       "      <td>Red Wine</td>\n",
       "      <td>On Premise</td>\n",
       "      <td>...</td>\n",
       "      <td>Close Out</td>\n",
       "      <td>S Anna's Merlot Season</td>\n",
       "      <td>Small Vineyards</td>\n",
       "      <td>TENUTA S. ANNA MERLOT</td>\n",
       "      <td>36.000000</td>\n",
       "      <td>30.417276</td>\n",
       "      <td>-40.502724</td>\n",
       "      <td>84.000000</td>\n",
       "      <td>5.582724</td>\n",
       "      <td>12.0</td>\n",
       "    </tr>\n",
       "    <tr>\n",
       "      <th>1119</th>\n",
       "      <td>1097355145902830813</td>\n",
       "      <td>80615.0</td>\n",
       "      <td>784556679610979772</td>\n",
       "      <td>1</td>\n",
       "      <td>1</td>\n",
       "      <td>2022</td>\n",
       "      <td>Package/Liquor</td>\n",
       "      <td>Package</td>\n",
       "      <td>Other Package</td>\n",
       "      <td>Off Premise</td>\n",
       "      <td>...</td>\n",
       "      <td>Core</td>\n",
       "      <td>Cacti Seltzer Variety</td>\n",
       "      <td>AB Anheuser Busch Inc</td>\n",
       "      <td>CACTI SELTZER VARIETY 18/12 CN 2/9</td>\n",
       "      <td>30.750000</td>\n",
       "      <td>30.075001</td>\n",
       "      <td>-76.139999</td>\n",
       "      <td>125.000000</td>\n",
       "      <td>0.675000</td>\n",
       "      <td>5.0</td>\n",
       "    </tr>\n",
       "    <tr>\n",
       "      <th>3721</th>\n",
       "      <td>1396394034393532416</td>\n",
       "      <td>80916.0</td>\n",
       "      <td>6098841113290535508</td>\n",
       "      <td>1</td>\n",
       "      <td>1</td>\n",
       "      <td>2022</td>\n",
       "      <td>Convenience</td>\n",
       "      <td>Package</td>\n",
       "      <td>Other Package</td>\n",
       "      <td>Off Premise</td>\n",
       "      <td>...</td>\n",
       "      <td>Core</td>\n",
       "      <td>Cacti Seltzer Lime</td>\n",
       "      <td>AB Anheuser Busch Inc</td>\n",
       "      <td>CACTI SELTZER LIME 15/25 CN</td>\n",
       "      <td>5.000000</td>\n",
       "      <td>4.765625</td>\n",
       "      <td>-19.398375</td>\n",
       "      <td>29.000000</td>\n",
       "      <td>0.234375</td>\n",
       "      <td>1.0</td>\n",
       "    </tr>\n",
       "    <tr>\n",
       "      <th>3757</th>\n",
       "      <td>1399578955714199512</td>\n",
       "      <td>80917.0</td>\n",
       "      <td>784556679610979772</td>\n",
       "      <td>1</td>\n",
       "      <td>1</td>\n",
       "      <td>2022</td>\n",
       "      <td>Package/Liquor</td>\n",
       "      <td>Package</td>\n",
       "      <td>Other Package</td>\n",
       "      <td>Off Premise</td>\n",
       "      <td>...</td>\n",
       "      <td>Core</td>\n",
       "      <td>Cacti Seltzer Variety</td>\n",
       "      <td>AB Anheuser Busch Inc</td>\n",
       "      <td>CACTI SELTZER VARIETY 18/12 CN 2/9</td>\n",
       "      <td>6.150000</td>\n",
       "      <td>6.015000</td>\n",
       "      <td>-15.269000</td>\n",
       "      <td>25.799999</td>\n",
       "      <td>0.135000</td>\n",
       "      <td>1.0</td>\n",
       "    </tr>\n",
       "    <tr>\n",
       "      <th>4593</th>\n",
       "      <td>1489411194430077013</td>\n",
       "      <td>80828.0</td>\n",
       "      <td>4697204510956344244</td>\n",
       "      <td>1</td>\n",
       "      <td>1</td>\n",
       "      <td>2022</td>\n",
       "      <td>Package/Liquor</td>\n",
       "      <td>Package</td>\n",
       "      <td>Other Package</td>\n",
       "      <td>Off Premise</td>\n",
       "      <td>...</td>\n",
       "      <td>Core</td>\n",
       "      <td>Bud Light Seltzer Tea Lemonade Variety Pack</td>\n",
       "      <td>AB Anheuser Busch Inc</td>\n",
       "      <td>BUD LIGHT SELTZER TEA LEMONADE VP 24/12 CN</td>\n",
       "      <td>54.119999</td>\n",
       "      <td>53.219997</td>\n",
       "      <td>-32.435001</td>\n",
       "      <td>80.750000</td>\n",
       "      <td>0.900000</td>\n",
       "      <td>5.0</td>\n",
       "    </tr>\n",
       "    <tr>\n",
       "      <th>...</th>\n",
       "      <td>...</td>\n",
       "      <td>...</td>\n",
       "      <td>...</td>\n",
       "      <td>...</td>\n",
       "      <td>...</td>\n",
       "      <td>...</td>\n",
       "      <td>...</td>\n",
       "      <td>...</td>\n",
       "      <td>...</td>\n",
       "      <td>...</td>\n",
       "      <td>...</td>\n",
       "      <td>...</td>\n",
       "      <td>...</td>\n",
       "      <td>...</td>\n",
       "      <td>...</td>\n",
       "      <td>...</td>\n",
       "      <td>...</td>\n",
       "      <td>...</td>\n",
       "      <td>...</td>\n",
       "      <td>...</td>\n",
       "      <td>...</td>\n",
       "    </tr>\n",
       "    <tr>\n",
       "      <th>6269573</th>\n",
       "      <td>809108000831449524</td>\n",
       "      <td>80631.0</td>\n",
       "      <td>6504514533420270914</td>\n",
       "      <td>5</td>\n",
       "      <td>12</td>\n",
       "      <td>2022</td>\n",
       "      <td>Bar</td>\n",
       "      <td>Distilled Spirits</td>\n",
       "      <td>Canadian Whisky</td>\n",
       "      <td>On Premise</td>\n",
       "      <td>...</td>\n",
       "      <td>None</td>\n",
       "      <td>Fireball Cinnamon Whiskey</td>\n",
       "      <td>Sazerac Spirits</td>\n",
       "      <td>FIREBALL 12/1L 66PF</td>\n",
       "      <td>216.850800</td>\n",
       "      <td>209.619980</td>\n",
       "      <td>-0.000016</td>\n",
       "      <td>225.360001</td>\n",
       "      <td>7.230816</td>\n",
       "      <td>12.0</td>\n",
       "    </tr>\n",
       "    <tr>\n",
       "      <th>6269974</th>\n",
       "      <td>8197698891485947230</td>\n",
       "      <td>31905.0</td>\n",
       "      <td>1906579625012192538</td>\n",
       "      <td>5</td>\n",
       "      <td>12</td>\n",
       "      <td>2022</td>\n",
       "      <td>Military</td>\n",
       "      <td>Distilled Spirits</td>\n",
       "      <td>Other Spirits</td>\n",
       "      <td>Off Premise</td>\n",
       "      <td>...</td>\n",
       "      <td>Discontinued</td>\n",
       "      <td>Soonhari Strawberry</td>\n",
       "      <td>Lotte Beverage America - Spirits</td>\n",
       "      <td>SOONHARI STRAWBERRY</td>\n",
       "      <td>288.400009</td>\n",
       "      <td>288.400009</td>\n",
       "      <td>48.160009</td>\n",
       "      <td>312.800013</td>\n",
       "      <td>0.000000</td>\n",
       "      <td>80.0</td>\n",
       "    </tr>\n",
       "    <tr>\n",
       "      <th>6270008</th>\n",
       "      <td>8205714931510262781</td>\n",
       "      <td>30752.0</td>\n",
       "      <td>5626969389367343590</td>\n",
       "      <td>5</td>\n",
       "      <td>12</td>\n",
       "      <td>2022</td>\n",
       "      <td>Convenience</td>\n",
       "      <td>ABA Spirits</td>\n",
       "      <td>Other ABA Spirits</td>\n",
       "      <td>Off Premise</td>\n",
       "      <td>...</td>\n",
       "      <td>Core</td>\n",
       "      <td>Sazerac Flash Point</td>\n",
       "      <td>Sazerac ABA</td>\n",
       "      <td>SAZERAC FLASH POINT WNBS 1.5 LTR 42PRF</td>\n",
       "      <td>41.520000</td>\n",
       "      <td>33.509346</td>\n",
       "      <td>9.819348</td>\n",
       "      <td>46.139999</td>\n",
       "      <td>8.010654</td>\n",
       "      <td>6.0</td>\n",
       "    </tr>\n",
       "    <tr>\n",
       "      <th>6273041</th>\n",
       "      <td>8834059245956888754</td>\n",
       "      <td>30725.0</td>\n",
       "      <td>5626969389367343590</td>\n",
       "      <td>5</td>\n",
       "      <td>12</td>\n",
       "      <td>2022</td>\n",
       "      <td>Convenience</td>\n",
       "      <td>ABA Spirits</td>\n",
       "      <td>Other ABA Spirits</td>\n",
       "      <td>Off Premise</td>\n",
       "      <td>...</td>\n",
       "      <td>Core</td>\n",
       "      <td>Sazerac Flash Point</td>\n",
       "      <td>Sazerac ABA</td>\n",
       "      <td>SAZERAC FLASH POINT WNBS 1.5 LTR 42PRF</td>\n",
       "      <td>13.840000</td>\n",
       "      <td>11.169782</td>\n",
       "      <td>3.273116</td>\n",
       "      <td>15.380000</td>\n",
       "      <td>2.670218</td>\n",
       "      <td>2.0</td>\n",
       "    </tr>\n",
       "    <tr>\n",
       "      <th>6274725</th>\n",
       "      <td>9218981268042961510</td>\n",
       "      <td>30103.0</td>\n",
       "      <td>5626969389367343590</td>\n",
       "      <td>5</td>\n",
       "      <td>12</td>\n",
       "      <td>2022</td>\n",
       "      <td>Convenience</td>\n",
       "      <td>ABA Spirits</td>\n",
       "      <td>Other ABA Spirits</td>\n",
       "      <td>Off Premise</td>\n",
       "      <td>...</td>\n",
       "      <td>Core</td>\n",
       "      <td>Sazerac Flash Point</td>\n",
       "      <td>Sazerac ABA</td>\n",
       "      <td>SAZERAC FLASH POINT WNBS 1.5 LTR 42PRF</td>\n",
       "      <td>41.520000</td>\n",
       "      <td>33.509346</td>\n",
       "      <td>9.819348</td>\n",
       "      <td>46.139999</td>\n",
       "      <td>8.010654</td>\n",
       "      <td>6.0</td>\n",
       "    </tr>\n",
       "  </tbody>\n",
       "</table>\n",
       "<p>36696 rows × 21 columns</p>\n",
       "</div>"
      ],
      "text/plain": [
       "                         pdv  zipcode              produto  semana  mes   ano  \\\n",
       "276      1038124409129670108  30519.0  8707095500115469700       1    1  2022   \n",
       "1119     1097355145902830813  80615.0   784556679610979772       1    1  2022   \n",
       "3721     1396394034393532416  80916.0  6098841113290535508       1    1  2022   \n",
       "3757     1399578955714199512  80917.0   784556679610979772       1    1  2022   \n",
       "4593     1489411194430077013  80828.0  4697204510956344244       1    1  2022   \n",
       "...                      ...      ...                  ...     ...  ...   ...   \n",
       "6269573   809108000831449524  80631.0  6504514533420270914       5   12  2022   \n",
       "6269974  8197698891485947230  31905.0  1906579625012192538       5   12  2022   \n",
       "6270008  8205714931510262781  30752.0  5626969389367343590       5   12  2022   \n",
       "6273041  8834059245956888754  30725.0  5626969389367343590       5   12  2022   \n",
       "6274725  9218981268042961510  30103.0  5626969389367343590       5   12  2022   \n",
       "\n",
       "          categoria_pdv          categoria       subcategoria      premise  \\\n",
       "276            Barbeque               Wine           Red Wine   On Premise   \n",
       "1119     Package/Liquor            Package      Other Package  Off Premise   \n",
       "3721        Convenience            Package      Other Package  Off Premise   \n",
       "3757     Package/Liquor            Package      Other Package  Off Premise   \n",
       "4593     Package/Liquor            Package      Other Package  Off Premise   \n",
       "...                 ...                ...                ...          ...   \n",
       "6269573             Bar  Distilled Spirits    Canadian Whisky   On Premise   \n",
       "6269974        Military  Distilled Spirits      Other Spirits  Off Premise   \n",
       "6270008     Convenience        ABA Spirits  Other ABA Spirits  Off Premise   \n",
       "6273041     Convenience        ABA Spirits  Other ABA Spirits  Off Premise   \n",
       "6274725     Convenience        ABA Spirits  Other ABA Spirits  Off Premise   \n",
       "\n",
       "         ...         label                                        marca  \\\n",
       "276      ...     Close Out                       S Anna's Merlot Season   \n",
       "1119     ...          Core                        Cacti Seltzer Variety   \n",
       "3721     ...          Core                           Cacti Seltzer Lime   \n",
       "3757     ...          Core                        Cacti Seltzer Variety   \n",
       "4593     ...          Core  Bud Light Seltzer Tea Lemonade Variety Pack   \n",
       "...      ...           ...                                          ...   \n",
       "6269573  ...          None                    Fireball Cinnamon Whiskey   \n",
       "6269974  ...  Discontinued                          Soonhari Strawberry   \n",
       "6270008  ...          Core                          Sazerac Flash Point   \n",
       "6273041  ...          Core                          Sazerac Flash Point   \n",
       "6274725  ...          Core                          Sazerac Flash Point   \n",
       "\n",
       "                               fabricante  \\\n",
       "276                       Small Vineyards   \n",
       "1119                AB Anheuser Busch Inc   \n",
       "3721                AB Anheuser Busch Inc   \n",
       "3757                AB Anheuser Busch Inc   \n",
       "4593                AB Anheuser Busch Inc   \n",
       "...                                   ...   \n",
       "6269573                   Sazerac Spirits   \n",
       "6269974  Lotte Beverage America - Spirits   \n",
       "6270008                       Sazerac ABA   \n",
       "6273041                       Sazerac ABA   \n",
       "6274725                       Sazerac ABA   \n",
       "\n",
       "                                          descricao gross_value   net_value  \\\n",
       "276                           TENUTA S. ANNA MERLOT   36.000000   30.417276   \n",
       "1119             CACTI SELTZER VARIETY 18/12 CN 2/9   30.750000   30.075001   \n",
       "3721                    CACTI SELTZER LIME 15/25 CN    5.000000    4.765625   \n",
       "3757             CACTI SELTZER VARIETY 18/12 CN 2/9    6.150000    6.015000   \n",
       "4593     BUD LIGHT SELTZER TEA LEMONADE VP 24/12 CN   54.119999   53.219997   \n",
       "...                                             ...         ...         ...   \n",
       "6269573                         FIREBALL 12/1L 66PF  216.850800  209.619980   \n",
       "6269974                         SOONHARI STRAWBERRY  288.400009  288.400009   \n",
       "6270008      SAZERAC FLASH POINT WNBS 1.5 LTR 42PRF   41.520000   33.509346   \n",
       "6273041      SAZERAC FLASH POINT WNBS 1.5 LTR 42PRF   13.840000   11.169782   \n",
       "6274725      SAZERAC FLASH POINT WNBS 1.5 LTR 42PRF   41.520000   33.509346   \n",
       "\n",
       "         gross_profit    discount     taxes  quantidade  \n",
       "276        -40.502724   84.000000  5.582724        12.0  \n",
       "1119       -76.139999  125.000000  0.675000         5.0  \n",
       "3721       -19.398375   29.000000  0.234375         1.0  \n",
       "3757       -15.269000   25.799999  0.135000         1.0  \n",
       "4593       -32.435001   80.750000  0.900000         5.0  \n",
       "...               ...         ...       ...         ...  \n",
       "6269573     -0.000016  225.360001  7.230816        12.0  \n",
       "6269974     48.160009  312.800013  0.000000        80.0  \n",
       "6270008      9.819348   46.139999  8.010654         6.0  \n",
       "6273041      3.273116   15.380000  2.670218         2.0  \n",
       "6274725      9.819348   46.139999  8.010654         6.0  \n",
       "\n",
       "[36696 rows x 21 columns]"
      ]
     },
     "execution_count": 179,
     "metadata": {},
     "output_type": "execute_result"
    }
   ],
   "source": [
    "df_pos[(df_pos['discount'] > df_pos['gross_value'])]"
   ]
  },
  {
   "cell_type": "code",
   "execution_count": 180,
   "id": "8075b9a9",
   "metadata": {},
   "outputs": [
    {
     "name": "stderr",
     "output_type": "stream",
     "text": [
      "/tmp/ipykernel_345058/1469350361.py:1: SettingWithCopyWarning: \n",
      "A value is trying to be set on a copy of a slice from a DataFrame.\n",
      "Try using .loc[row_indexer,col_indexer] = value instead\n",
      "\n",
      "See the caveats in the documentation: https://pandas.pydata.org/pandas-docs/stable/user_guide/indexing.html#returning-a-view-versus-a-copy\n",
      "  df_pos['pdv_produto'] = df_pos['pdv'] + \"_\" + df_pos['produto']\n"
     ]
    }
   ],
   "source": [
    "df_pos['pdv_produto'] = df_pos['pdv'] + \"_\" + df_pos['produto']"
   ]
  },
  {
   "cell_type": "code",
   "execution_count": 181,
   "id": "b9cbec44",
   "metadata": {},
   "outputs": [
    {
     "data": {
      "text/plain": [
       "pdv_produto\n",
       "2760018522154709469_3894706280449257667    57\n",
       "4944819258719870167_1938760505411922162    57\n",
       "1474309873477514622_1029370090212151375    56\n",
       "9108176782777408036_1938760505411922162    56\n",
       "3188906461264284944_1938760505411922162    56\n",
       "                                           ..\n",
       "4234539155839849443_7623428228789006429     1\n",
       "4234539155839849443_7616178193689624010     1\n",
       "4234539155839849443_7552994870611052892     1\n",
       "4234539155839849443_7471985070343154106     1\n",
       "4234539155839849443_8050468025014665515     1\n",
       "Name: count, Length: 1022569, dtype: int64"
      ]
     },
     "execution_count": 181,
     "metadata": {},
     "output_type": "execute_result"
    }
   ],
   "source": [
    "df_pos['pdv_produto'].value_counts()"
   ]
  },
  {
   "cell_type": "code",
   "execution_count": 183,
   "id": "dbde8329",
   "metadata": {},
   "outputs": [
    {
     "data": {
      "text/plain": [
       "18.75"
      ]
     },
     "execution_count": 183,
     "metadata": {},
     "output_type": "execute_result"
    }
   ],
   "source": [
    "471.875 - 453.125"
   ]
  },
  {
   "cell_type": "code",
   "execution_count": 184,
   "id": "ca6045d6",
   "metadata": {},
   "outputs": [
    {
     "data": {
      "text/plain": [
       "18.74900000000001"
      ]
     },
     "execution_count": 184,
     "metadata": {},
     "output_type": "execute_result"
    }
   ],
   "source": [
    "105.924 - 87.175"
   ]
  },
  {
   "cell_type": "code",
   "execution_count": 185,
   "id": "e07db777",
   "metadata": {},
   "outputs": [
    {
     "data": {
      "text/html": [
       "<div>\n",
       "<style scoped>\n",
       "    .dataframe tbody tr th:only-of-type {\n",
       "        vertical-align: middle;\n",
       "    }\n",
       "\n",
       "    .dataframe tbody tr th {\n",
       "        vertical-align: top;\n",
       "    }\n",
       "\n",
       "    .dataframe thead th {\n",
       "        text-align: right;\n",
       "    }\n",
       "</style>\n",
       "<table border=\"1\" class=\"dataframe\">\n",
       "  <thead>\n",
       "    <tr style=\"text-align: right;\">\n",
       "      <th></th>\n",
       "      <th>pdv</th>\n",
       "      <th>zipcode</th>\n",
       "      <th>produto</th>\n",
       "      <th>semana</th>\n",
       "      <th>mes</th>\n",
       "      <th>ano</th>\n",
       "      <th>categoria_pdv</th>\n",
       "      <th>categoria</th>\n",
       "      <th>subcategoria</th>\n",
       "      <th>premise</th>\n",
       "      <th>...</th>\n",
       "      <th>marca</th>\n",
       "      <th>fabricante</th>\n",
       "      <th>descricao</th>\n",
       "      <th>gross_value</th>\n",
       "      <th>net_value</th>\n",
       "      <th>gross_profit</th>\n",
       "      <th>discount</th>\n",
       "      <th>taxes</th>\n",
       "      <th>quantidade</th>\n",
       "      <th>pdv_produto</th>\n",
       "    </tr>\n",
       "  </thead>\n",
       "  <tbody>\n",
       "    <tr>\n",
       "      <th>16467</th>\n",
       "      <td>2760018522154709469</td>\n",
       "      <td>81301.0</td>\n",
       "      <td>3894706280449257667</td>\n",
       "      <td>1</td>\n",
       "      <td>1</td>\n",
       "      <td>2022</td>\n",
       "      <td>Super Center</td>\n",
       "      <td>Package</td>\n",
       "      <td>Lager</td>\n",
       "      <td>Off Premise</td>\n",
       "      <td>...</td>\n",
       "      <td>Busch Light</td>\n",
       "      <td>AB Anheuser Busch Inc</td>\n",
       "      <td>BUSCH LIGHT 30/12 CN</td>\n",
       "      <td>176.750</td>\n",
       "      <td>174.50</td>\n",
       "      <td>36.669998</td>\n",
       "      <td>27.00</td>\n",
       "      <td>2.250</td>\n",
       "      <td>10.0</td>\n",
       "      <td>2760018522154709469_3894706280449257667</td>\n",
       "    </tr>\n",
       "    <tr>\n",
       "      <th>97655</th>\n",
       "      <td>2760018522154709469</td>\n",
       "      <td>81301.0</td>\n",
       "      <td>3894706280449257667</td>\n",
       "      <td>1</td>\n",
       "      <td>2</td>\n",
       "      <td>2022</td>\n",
       "      <td>Super Center</td>\n",
       "      <td>Package</td>\n",
       "      <td>Lager</td>\n",
       "      <td>Off Premise</td>\n",
       "      <td>...</td>\n",
       "      <td>Busch Light</td>\n",
       "      <td>AB Anheuser Busch Inc</td>\n",
       "      <td>BUSCH LIGHT 30/12 CN</td>\n",
       "      <td>471.875</td>\n",
       "      <td>466.25</td>\n",
       "      <td>105.924999</td>\n",
       "      <td>76.25</td>\n",
       "      <td>5.625</td>\n",
       "      <td>25.0</td>\n",
       "      <td>2760018522154709469_3894706280449257667</td>\n",
       "    </tr>\n",
       "    <tr>\n",
       "      <th>200926</th>\n",
       "      <td>2760018522154709469</td>\n",
       "      <td>81301.0</td>\n",
       "      <td>3894706280449257667</td>\n",
       "      <td>1</td>\n",
       "      <td>3</td>\n",
       "      <td>2022</td>\n",
       "      <td>Super Center</td>\n",
       "      <td>Package</td>\n",
       "      <td>Lager</td>\n",
       "      <td>Off Premise</td>\n",
       "      <td>...</td>\n",
       "      <td>Busch Light</td>\n",
       "      <td>AB Anheuser Busch Inc</td>\n",
       "      <td>BUSCH LIGHT 30/12 CN</td>\n",
       "      <td>453.125</td>\n",
       "      <td>447.50</td>\n",
       "      <td>87.174999</td>\n",
       "      <td>86.25</td>\n",
       "      <td>5.625</td>\n",
       "      <td>25.0</td>\n",
       "      <td>2760018522154709469_3894706280449257667</td>\n",
       "    </tr>\n",
       "    <tr>\n",
       "      <th>307494</th>\n",
       "      <td>2760018522154709469</td>\n",
       "      <td>81301.0</td>\n",
       "      <td>3894706280449257667</td>\n",
       "      <td>1</td>\n",
       "      <td>4</td>\n",
       "      <td>2022</td>\n",
       "      <td>Super Center</td>\n",
       "      <td>Package</td>\n",
       "      <td>Lager</td>\n",
       "      <td>Off Premise</td>\n",
       "      <td>...</td>\n",
       "      <td>Busch Light</td>\n",
       "      <td>AB Anheuser Busch Inc</td>\n",
       "      <td>BUSCH LIGHT 30/12 CN</td>\n",
       "      <td>181.250</td>\n",
       "      <td>179.00</td>\n",
       "      <td>38.720001</td>\n",
       "      <td>34.50</td>\n",
       "      <td>2.250</td>\n",
       "      <td>10.0</td>\n",
       "      <td>2760018522154709469_3894706280449257667</td>\n",
       "    </tr>\n",
       "    <tr>\n",
       "      <th>423178</th>\n",
       "      <td>2760018522154709469</td>\n",
       "      <td>81301.0</td>\n",
       "      <td>3894706280449257667</td>\n",
       "      <td>1</td>\n",
       "      <td>5</td>\n",
       "      <td>2022</td>\n",
       "      <td>Super Center</td>\n",
       "      <td>Package</td>\n",
       "      <td>Lager</td>\n",
       "      <td>Off Premise</td>\n",
       "      <td>...</td>\n",
       "      <td>Busch Light</td>\n",
       "      <td>AB Anheuser Busch Inc</td>\n",
       "      <td>BUSCH LIGHT 30/12 CN</td>\n",
       "      <td>362.500</td>\n",
       "      <td>358.00</td>\n",
       "      <td>77.440002</td>\n",
       "      <td>69.00</td>\n",
       "      <td>4.500</td>\n",
       "      <td>20.0</td>\n",
       "      <td>2760018522154709469_3894706280449257667</td>\n",
       "    </tr>\n",
       "  </tbody>\n",
       "</table>\n",
       "<p>5 rows × 22 columns</p>\n",
       "</div>"
      ],
      "text/plain": [
       "                        pdv  zipcode              produto  semana  mes   ano  \\\n",
       "16467   2760018522154709469  81301.0  3894706280449257667       1    1  2022   \n",
       "97655   2760018522154709469  81301.0  3894706280449257667       1    2  2022   \n",
       "200926  2760018522154709469  81301.0  3894706280449257667       1    3  2022   \n",
       "307494  2760018522154709469  81301.0  3894706280449257667       1    4  2022   \n",
       "423178  2760018522154709469  81301.0  3894706280449257667       1    5  2022   \n",
       "\n",
       "       categoria_pdv categoria subcategoria      premise  ...        marca  \\\n",
       "16467   Super Center   Package        Lager  Off Premise  ...  Busch Light   \n",
       "97655   Super Center   Package        Lager  Off Premise  ...  Busch Light   \n",
       "200926  Super Center   Package        Lager  Off Premise  ...  Busch Light   \n",
       "307494  Super Center   Package        Lager  Off Premise  ...  Busch Light   \n",
       "423178  Super Center   Package        Lager  Off Premise  ...  Busch Light   \n",
       "\n",
       "                   fabricante             descricao gross_value net_value  \\\n",
       "16467   AB Anheuser Busch Inc  BUSCH LIGHT 30/12 CN     176.750    174.50   \n",
       "97655   AB Anheuser Busch Inc  BUSCH LIGHT 30/12 CN     471.875    466.25   \n",
       "200926  AB Anheuser Busch Inc  BUSCH LIGHT 30/12 CN     453.125    447.50   \n",
       "307494  AB Anheuser Busch Inc  BUSCH LIGHT 30/12 CN     181.250    179.00   \n",
       "423178  AB Anheuser Busch Inc  BUSCH LIGHT 30/12 CN     362.500    358.00   \n",
       "\n",
       "        gross_profit  discount  taxes  quantidade  \\\n",
       "16467      36.669998     27.00  2.250        10.0   \n",
       "97655     105.924999     76.25  5.625        25.0   \n",
       "200926     87.174999     86.25  5.625        25.0   \n",
       "307494     38.720001     34.50  2.250        10.0   \n",
       "423178     77.440002     69.00  4.500        20.0   \n",
       "\n",
       "                                    pdv_produto  \n",
       "16467   2760018522154709469_3894706280449257667  \n",
       "97655   2760018522154709469_3894706280449257667  \n",
       "200926  2760018522154709469_3894706280449257667  \n",
       "307494  2760018522154709469_3894706280449257667  \n",
       "423178  2760018522154709469_3894706280449257667  \n",
       "\n",
       "[5 rows x 22 columns]"
      ]
     },
     "execution_count": 185,
     "metadata": {},
     "output_type": "execute_result"
    }
   ],
   "source": [
    "df_pos[df_pos.pdv_produto == \"2760018522154709469_3894706280449257667\"].head()"
   ]
  },
  {
   "cell_type": "code",
   "execution_count": 187,
   "id": "06bd9c2d",
   "metadata": {},
   "outputs": [],
   "source": [
    "example = df_pos[df_pos.pdv_produto == \"2760018522154709469_3894706280449257667\"].iloc[0]"
   ]
  },
  {
   "cell_type": "code",
   "execution_count": null,
   "id": "0241fd76",
   "metadata": {},
   "outputs": [],
   "source": [
    "# Custo da mercadoria = gross_value / quantidade (para o cliente)\n",
    "# Custo para da mercadoria para o pdv = net_value - gross_profit\n",
    "\n",
    "# Valor total pago pelo cliente = gross_value; O preço original seria (gross_value + discount)\n",
    "# Net_value: faturamento da venda descontando impostos\n",
    "# Gross_value = net_value - custo_de_mercadoria"
   ]
  }
 ],
 "metadata": {
  "kernelspec": {
   "display_name": "hackathon-big-data-2025",
   "language": "python",
   "name": "python3"
  },
  "language_info": {
   "codemirror_mode": {
    "name": "ipython",
    "version": 3
   },
   "file_extension": ".py",
   "mimetype": "text/x-python",
   "name": "python",
   "nbconvert_exporter": "python",
   "pygments_lexer": "ipython3",
   "version": "3.11.5"
  }
 },
 "nbformat": 4,
 "nbformat_minor": 5
}
